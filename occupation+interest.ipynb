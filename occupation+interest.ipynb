{
 "cells": [
  {
   "cell_type": "code",
   "execution_count": 1,
   "metadata": {
    "id": "X1OAVD99JfkH"
   },
   "outputs": [],
   "source": [
    "import pandas as pd\n",
    "import numpy as np\n",
    "from matplotlib import pyplot as plt\n",
    "import plotly.express as px\n",
    "import plotly.graph_objects as go\n",
    "import seaborn as sns"
   ]
  },
  {
   "cell_type": "code",
   "execution_count": 2,
   "metadata": {
    "colab": {
     "base_uri": "https://localhost:8080/"
    },
    "id": "R4zpkpK2Joum",
    "outputId": "42e30457-73f3-414c-856d-0a69983f58bb"
   },
   "outputs": [],
   "source": [
    "#from google.colab import drive\n",
    "#drive.mount('/content/drive')"
   ]
  },
  {
   "cell_type": "code",
   "execution_count": 3,
   "metadata": {
    "id": "ovujovr2-Yqa"
   },
   "outputs": [],
   "source": [
    "#path=\"occupation.csv\"\n"
   ]
  },
  {
   "cell_type": "code",
   "execution_count": 4,
   "metadata": {
    "id": "vhOcBvOG-nTq"
   },
   "outputs": [],
   "source": [
    "occup=pd.read_excel(\"occupation.xlsx\")\n"
   ]
  },
  {
   "cell_type": "code",
   "execution_count": 16,
   "metadata": {},
   "outputs": [],
   "source": [
    "#df.to_excel(\"occupation.xlsx\", index=False)"
   ]
  },
  {
   "cell_type": "code",
   "execution_count": 5,
   "metadata": {},
   "outputs": [],
   "source": [
    "occup.drop('nom_q_9204', inplace = True, axis=1 )"
   ]
  },
  {
   "cell_type": "code",
   "execution_count": 6,
   "metadata": {},
   "outputs": [
    {
     "data": {
      "text/plain": [
       "(4398, 19)"
      ]
     },
     "execution_count": 6,
     "metadata": {},
     "output_type": "execute_result"
    }
   ],
   "source": [
    "occup.shape"
   ]
  },
  {
   "cell_type": "code",
   "execution_count": 7,
   "metadata": {},
   "outputs": [],
   "source": [
    "#occup.drop(\"nom_q_9103a\",axis=1,inplace=True)"
   ]
  },
  {
   "cell_type": "code",
   "execution_count": 8,
   "metadata": {
    "scrolled": true
   },
   "outputs": [
    {
     "data": {
      "text/html": [
       "<div>\n",
       "<style scoped>\n",
       "    .dataframe tbody tr th:only-of-type {\n",
       "        vertical-align: middle;\n",
       "    }\n",
       "\n",
       "    .dataframe tbody tr th {\n",
       "        vertical-align: top;\n",
       "    }\n",
       "\n",
       "    .dataframe thead th {\n",
       "        text-align: right;\n",
       "    }\n",
       "</style>\n",
       "<table border=\"1\" class=\"dataframe\">\n",
       "  <thead>\n",
       "    <tr style=\"text-align: right;\">\n",
       "      <th></th>\n",
       "      <th>nom_q_9103b</th>\n",
       "      <th>nom_q_9103c</th>\n",
       "      <th>nom_q_9103d</th>\n",
       "      <th>nom_q_9103e</th>\n",
       "      <th>nom_q_9103f</th>\n",
       "      <th>nom_q_9103g</th>\n",
       "      <th>nom_q_9103h</th>\n",
       "      <th>nom_q_9103i</th>\n",
       "      <th>nom_q_9103j</th>\n",
       "      <th>nom_q_9103k</th>\n",
       "      <th>nom_q_9103l</th>\n",
       "      <th>nom_q_9103m</th>\n",
       "      <th>nom_q_9103n</th>\n",
       "      <th>nom_q_9103o</th>\n",
       "      <th>nom_q_9103p</th>\n",
       "      <th>nom_q_9103q</th>\n",
       "      <th>nom_q_9103r</th>\n",
       "      <th>nom_q_9103s</th>\n",
       "      <th>occupation</th>\n",
       "    </tr>\n",
       "  </thead>\n",
       "  <tbody>\n",
       "    <tr>\n",
       "      <th>0</th>\n",
       "      <td>Electronics</td>\n",
       "      <td>Photography</td>\n",
       "      <td>Owning_store</td>\n",
       "      <td>Company_management</td>\n",
       "      <td>Physical_training</td>\n",
       "      <td>Music</td>\n",
       "      <td>Physics</td>\n",
       "      <td>Education</td>\n",
       "      <td>Law</td>\n",
       "      <td>Child_care</td>\n",
       "      <td>Landscaping</td>\n",
       "      <td>Travel_agent</td>\n",
       "      <td>Work_office</td>\n",
       "      <td>Forest</td>\n",
       "      <td>Electric</td>\n",
       "      <td>Accounting</td>\n",
       "      <td>Builder</td>\n",
       "      <td>mortgage</td>\n",
       "      <td>people_contact</td>\n",
       "    </tr>\n",
       "    <tr>\n",
       "      <th>1</th>\n",
       "      <td>Electronics</td>\n",
       "      <td>Botany</td>\n",
       "      <td>Owning_store</td>\n",
       "      <td>Helping_families_in_need</td>\n",
       "      <td>Physical_training</td>\n",
       "      <td>Music</td>\n",
       "      <td>Economic_sciences</td>\n",
       "      <td>Art</td>\n",
       "      <td>Artist_Folk_Crafts</td>\n",
       "      <td>Child_care</td>\n",
       "      <td>Landscaping</td>\n",
       "      <td>Travel_agent</td>\n",
       "      <td>Picture_description</td>\n",
       "      <td>Forest</td>\n",
       "      <td>Electric</td>\n",
       "      <td>Geology</td>\n",
       "      <td>Builder</td>\n",
       "      <td>helping_hospital</td>\n",
       "      <td>creative</td>\n",
       "    </tr>\n",
       "    <tr>\n",
       "      <th>2</th>\n",
       "      <td>Electronics</td>\n",
       "      <td>Photography</td>\n",
       "      <td>Advice_on_work</td>\n",
       "      <td>Helping_families_in_need</td>\n",
       "      <td>Doktor</td>\n",
       "      <td>Music</td>\n",
       "      <td>Economic_sciences</td>\n",
       "      <td>Art</td>\n",
       "      <td>Law</td>\n",
       "      <td>Child_care</td>\n",
       "      <td>Playing_in_group</td>\n",
       "      <td>Travel_agent</td>\n",
       "      <td>Work_office</td>\n",
       "      <td>nurse_mercy</td>\n",
       "      <td>Economist</td>\n",
       "      <td>Accounting</td>\n",
       "      <td>Economist</td>\n",
       "      <td>helping_hospital</td>\n",
       "      <td>people_contact</td>\n",
       "    </tr>\n",
       "    <tr>\n",
       "      <th>3</th>\n",
       "      <td>Electronics</td>\n",
       "      <td>Photography</td>\n",
       "      <td>Advice_on_work</td>\n",
       "      <td>Company_management</td>\n",
       "      <td>Doktor</td>\n",
       "      <td>Music</td>\n",
       "      <td>Economic_sciences</td>\n",
       "      <td>Art</td>\n",
       "      <td>Artist_Folk_Crafts</td>\n",
       "      <td>Child_care</td>\n",
       "      <td>Landscaping</td>\n",
       "      <td>Travel_agent</td>\n",
       "      <td>Work_office</td>\n",
       "      <td>nurse_mercy</td>\n",
       "      <td>Economist</td>\n",
       "      <td>Accounting</td>\n",
       "      <td>Economist</td>\n",
       "      <td>helping_hospital</td>\n",
       "      <td>office</td>\n",
       "    </tr>\n",
       "    <tr>\n",
       "      <th>4</th>\n",
       "      <td>Electronics</td>\n",
       "      <td>Botany</td>\n",
       "      <td>Owning_store</td>\n",
       "      <td>Company_management</td>\n",
       "      <td>Doktor</td>\n",
       "      <td>Working_with_wood</td>\n",
       "      <td>Economic_sciences</td>\n",
       "      <td>Education</td>\n",
       "      <td>Artist_Folk_Crafts</td>\n",
       "      <td>Stand_electronics</td>\n",
       "      <td>Landscaping</td>\n",
       "      <td>Travel_agent</td>\n",
       "      <td>Work_office</td>\n",
       "      <td>nurse_mercy</td>\n",
       "      <td>Economist</td>\n",
       "      <td>Geology</td>\n",
       "      <td>Economist</td>\n",
       "      <td>helping_hospital</td>\n",
       "      <td>business</td>\n",
       "    </tr>\n",
       "    <tr>\n",
       "      <th>...</th>\n",
       "      <td>...</td>\n",
       "      <td>...</td>\n",
       "      <td>...</td>\n",
       "      <td>...</td>\n",
       "      <td>...</td>\n",
       "      <td>...</td>\n",
       "      <td>...</td>\n",
       "      <td>...</td>\n",
       "      <td>...</td>\n",
       "      <td>...</td>\n",
       "      <td>...</td>\n",
       "      <td>...</td>\n",
       "      <td>...</td>\n",
       "      <td>...</td>\n",
       "      <td>...</td>\n",
       "      <td>...</td>\n",
       "      <td>...</td>\n",
       "      <td>...</td>\n",
       "      <td>...</td>\n",
       "    </tr>\n",
       "    <tr>\n",
       "      <th>4393</th>\n",
       "      <td>Electronics</td>\n",
       "      <td>Photography</td>\n",
       "      <td>Owning_store</td>\n",
       "      <td>Helping_families_in_need</td>\n",
       "      <td>Physical_training</td>\n",
       "      <td>Music</td>\n",
       "      <td>Economic_sciences</td>\n",
       "      <td>Art</td>\n",
       "      <td>Artist_Folk_Crafts</td>\n",
       "      <td>Child_care</td>\n",
       "      <td>Playing_in_group</td>\n",
       "      <td>Travel_agent</td>\n",
       "      <td>Work_office</td>\n",
       "      <td>Forest</td>\n",
       "      <td>Economist</td>\n",
       "      <td>Accounting</td>\n",
       "      <td>Economist</td>\n",
       "      <td>helping_hospital</td>\n",
       "      <td>practical</td>\n",
       "    </tr>\n",
       "    <tr>\n",
       "      <th>4394</th>\n",
       "      <td>Chemistry</td>\n",
       "      <td>Photography</td>\n",
       "      <td>Owning_store</td>\n",
       "      <td>Company_management</td>\n",
       "      <td>Physical_training</td>\n",
       "      <td>Music</td>\n",
       "      <td>Economic_sciences</td>\n",
       "      <td>Education</td>\n",
       "      <td>Law</td>\n",
       "      <td>Stand_electronics</td>\n",
       "      <td>Landscaping</td>\n",
       "      <td>Travel_agent</td>\n",
       "      <td>Work_office</td>\n",
       "      <td>Forest</td>\n",
       "      <td>Economist</td>\n",
       "      <td>Accounting</td>\n",
       "      <td>Economist</td>\n",
       "      <td>mortgage</td>\n",
       "      <td>practical</td>\n",
       "    </tr>\n",
       "    <tr>\n",
       "      <th>4395</th>\n",
       "      <td>Electronics</td>\n",
       "      <td>Photography</td>\n",
       "      <td>Owning_store</td>\n",
       "      <td>Company_management</td>\n",
       "      <td>Physical_training</td>\n",
       "      <td>Music</td>\n",
       "      <td>Economic_sciences</td>\n",
       "      <td>Art</td>\n",
       "      <td>Artist_Folk_Crafts</td>\n",
       "      <td>Child_care</td>\n",
       "      <td>Landscaping</td>\n",
       "      <td>Travel_agent</td>\n",
       "      <td>Work_office</td>\n",
       "      <td>Forest</td>\n",
       "      <td>Economist</td>\n",
       "      <td>Geology</td>\n",
       "      <td>Builder</td>\n",
       "      <td>helping_hospital</td>\n",
       "      <td>business</td>\n",
       "    </tr>\n",
       "    <tr>\n",
       "      <th>4396</th>\n",
       "      <td>Electronics</td>\n",
       "      <td>Photography</td>\n",
       "      <td>Advice_on_work</td>\n",
       "      <td>Helping_families_in_need</td>\n",
       "      <td>Doktor</td>\n",
       "      <td>Working_with_wood</td>\n",
       "      <td>Economic_sciences</td>\n",
       "      <td>Education</td>\n",
       "      <td>Law</td>\n",
       "      <td>Child_care</td>\n",
       "      <td>Landscaping</td>\n",
       "      <td>Travel_agent</td>\n",
       "      <td>Work_office</td>\n",
       "      <td>Forest</td>\n",
       "      <td>Economist</td>\n",
       "      <td>Accounting</td>\n",
       "      <td>Economist</td>\n",
       "      <td>mortgage</td>\n",
       "      <td>business</td>\n",
       "    </tr>\n",
       "    <tr>\n",
       "      <th>4397</th>\n",
       "      <td>Electronics</td>\n",
       "      <td>Photography</td>\n",
       "      <td>Owning_store</td>\n",
       "      <td>Company_management</td>\n",
       "      <td>Physical_training</td>\n",
       "      <td>Music</td>\n",
       "      <td>Economic_sciences</td>\n",
       "      <td>Education</td>\n",
       "      <td>Artist_Folk_Crafts</td>\n",
       "      <td>Stand_electronics</td>\n",
       "      <td>Playing_in_group</td>\n",
       "      <td>Mechanic</td>\n",
       "      <td>Work_office</td>\n",
       "      <td>nurse_mercy</td>\n",
       "      <td>Electric</td>\n",
       "      <td>Geology</td>\n",
       "      <td>Builder</td>\n",
       "      <td>helping_hospital</td>\n",
       "      <td>outdoors</td>\n",
       "    </tr>\n",
       "  </tbody>\n",
       "</table>\n",
       "<p>4398 rows × 19 columns</p>\n",
       "</div>"
      ],
      "text/plain": [
       "      nom_q_9103b  nom_q_9103c     nom_q_9103d               nom_q_9103e  \\\n",
       "0     Electronics  Photography    Owning_store        Company_management   \n",
       "1     Electronics       Botany    Owning_store  Helping_families_in_need   \n",
       "2     Electronics  Photography  Advice_on_work  Helping_families_in_need   \n",
       "3     Electronics  Photography  Advice_on_work        Company_management   \n",
       "4     Electronics       Botany    Owning_store        Company_management   \n",
       "...           ...          ...             ...                       ...   \n",
       "4393  Electronics  Photography    Owning_store  Helping_families_in_need   \n",
       "4394    Chemistry  Photography    Owning_store        Company_management   \n",
       "4395  Electronics  Photography    Owning_store        Company_management   \n",
       "4396  Electronics  Photography  Advice_on_work  Helping_families_in_need   \n",
       "4397  Electronics  Photography    Owning_store        Company_management   \n",
       "\n",
       "            nom_q_9103f        nom_q_9103g        nom_q_9103h nom_q_9103i  \\\n",
       "0     Physical_training              Music            Physics   Education   \n",
       "1     Physical_training              Music  Economic_sciences         Art   \n",
       "2                Doktor              Music  Economic_sciences         Art   \n",
       "3                Doktor              Music  Economic_sciences         Art   \n",
       "4                Doktor  Working_with_wood  Economic_sciences   Education   \n",
       "...                 ...                ...                ...         ...   \n",
       "4393  Physical_training              Music  Economic_sciences         Art   \n",
       "4394  Physical_training              Music  Economic_sciences   Education   \n",
       "4395  Physical_training              Music  Economic_sciences         Art   \n",
       "4396             Doktor  Working_with_wood  Economic_sciences   Education   \n",
       "4397  Physical_training              Music  Economic_sciences   Education   \n",
       "\n",
       "             nom_q_9103j        nom_q_9103k       nom_q_9103l   nom_q_9103m  \\\n",
       "0                    Law         Child_care       Landscaping  Travel_agent   \n",
       "1     Artist_Folk_Crafts         Child_care       Landscaping  Travel_agent   \n",
       "2                    Law         Child_care  Playing_in_group  Travel_agent   \n",
       "3     Artist_Folk_Crafts         Child_care       Landscaping  Travel_agent   \n",
       "4     Artist_Folk_Crafts  Stand_electronics       Landscaping  Travel_agent   \n",
       "...                  ...                ...               ...           ...   \n",
       "4393  Artist_Folk_Crafts         Child_care  Playing_in_group  Travel_agent   \n",
       "4394                 Law  Stand_electronics       Landscaping  Travel_agent   \n",
       "4395  Artist_Folk_Crafts         Child_care       Landscaping  Travel_agent   \n",
       "4396                 Law         Child_care       Landscaping  Travel_agent   \n",
       "4397  Artist_Folk_Crafts  Stand_electronics  Playing_in_group      Mechanic   \n",
       "\n",
       "              nom_q_9103n  nom_q_9103o nom_q_9103p nom_q_9103q nom_q_9103r  \\\n",
       "0             Work_office       Forest    Electric  Accounting     Builder   \n",
       "1     Picture_description       Forest    Electric     Geology     Builder   \n",
       "2             Work_office  nurse_mercy   Economist  Accounting   Economist   \n",
       "3             Work_office  nurse_mercy   Economist  Accounting   Economist   \n",
       "4             Work_office  nurse_mercy   Economist     Geology   Economist   \n",
       "...                   ...          ...         ...         ...         ...   \n",
       "4393          Work_office       Forest   Economist  Accounting   Economist   \n",
       "4394          Work_office       Forest   Economist  Accounting   Economist   \n",
       "4395          Work_office       Forest   Economist     Geology     Builder   \n",
       "4396          Work_office       Forest   Economist  Accounting   Economist   \n",
       "4397          Work_office  nurse_mercy    Electric     Geology     Builder   \n",
       "\n",
       "           nom_q_9103s      occupation  \n",
       "0             mortgage  people_contact  \n",
       "1     helping_hospital        creative  \n",
       "2     helping_hospital  people_contact  \n",
       "3     helping_hospital          office  \n",
       "4     helping_hospital        business  \n",
       "...                ...             ...  \n",
       "4393  helping_hospital       practical  \n",
       "4394          mortgage       practical  \n",
       "4395  helping_hospital        business  \n",
       "4396          mortgage        business  \n",
       "4397  helping_hospital        outdoors  \n",
       "\n",
       "[4398 rows x 19 columns]"
      ]
     },
     "execution_count": 8,
     "metadata": {},
     "output_type": "execute_result"
    }
   ],
   "source": [
    "occup"
   ]
  },
  {
   "cell_type": "code",
   "execution_count": 9,
   "metadata": {
    "colab": {
     "base_uri": "https://localhost:8080/"
    },
    "id": "G5dk7bN4-q7Z",
    "outputId": "61f8464c-c787-46a1-fc69-26a5c44f156d"
   },
   "outputs": [
    {
     "name": "stdout",
     "output_type": "stream",
     "text": [
      "<class 'pandas.core.frame.DataFrame'>\n",
      "RangeIndex: 4398 entries, 0 to 4397\n",
      "Data columns (total 19 columns):\n",
      " #   Column       Non-Null Count  Dtype \n",
      "---  ------       --------------  ----- \n",
      " 0   nom_q_9103b  4398 non-null   object\n",
      " 1   nom_q_9103c  4398 non-null   object\n",
      " 2   nom_q_9103d  4398 non-null   object\n",
      " 3   nom_q_9103e  4398 non-null   object\n",
      " 4   nom_q_9103f  4398 non-null   object\n",
      " 5   nom_q_9103g  4398 non-null   object\n",
      " 6   nom_q_9103h  4398 non-null   object\n",
      " 7   nom_q_9103i  4398 non-null   object\n",
      " 8   nom_q_9103j  4398 non-null   object\n",
      " 9   nom_q_9103k  4398 non-null   object\n",
      " 10  nom_q_9103l  4398 non-null   object\n",
      " 11  nom_q_9103m  4398 non-null   object\n",
      " 12  nom_q_9103n  4398 non-null   object\n",
      " 13  nom_q_9103o  4398 non-null   object\n",
      " 14  nom_q_9103p  4398 non-null   object\n",
      " 15  nom_q_9103q  4398 non-null   object\n",
      " 16  nom_q_9103r  4398 non-null   object\n",
      " 17  nom_q_9103s  4398 non-null   object\n",
      " 18  occupation   4398 non-null   object\n",
      "dtypes: object(19)\n",
      "memory usage: 653.0+ KB\n"
     ]
    }
   ],
   "source": [
    "occup.info()"
   ]
  },
  {
   "cell_type": "code",
   "execution_count": null,
   "metadata": {},
   "outputs": [],
   "source": []
  },
  {
   "cell_type": "code",
   "execution_count": 59,
   "metadata": {},
   "outputs": [
    {
     "data": {
      "text/plain": [
       "array(['scientific', 'office', 'people_contact', 'practical', 'outdoors',\n",
       "       'creative', 'business'], dtype=object)"
      ]
     },
     "execution_count": 59,
     "metadata": {},
     "output_type": "execute_result"
    }
   ],
   "source": [
    "y_test.unique()"
   ]
  },
  {
   "cell_type": "code",
   "execution_count": null,
   "metadata": {},
   "outputs": [],
   "source": [
    "for c in categorical_columns:\n",
    "    print (df[c].unique())"
   ]
  },
  {
   "cell_type": "code",
   "execution_count": 55,
   "metadata": {},
   "outputs": [
    {
     "data": {
      "text/plain": [
       "array(['Music', 'Working with wood'], dtype=object)"
      ]
     },
     "execution_count": 55,
     "metadata": {},
     "output_type": "execute_result"
    }
   ],
   "source": [
    "#occup.columns\n",
    "occup.nom_q_9103f.unique()"
   ]
  },
  {
   "cell_type": "code",
   "execution_count": 57,
   "metadata": {
    "scrolled": true
   },
   "outputs": [
    {
     "name": "stdout",
     "output_type": "stream",
     "text": [
      "['Chemistry' 'Electronics']\n",
      "nom_q_9103b\n",
      "['Botany' 'Photography']\n",
      "nom_q_9103c\n",
      "['Owning a store' 'Advice on work']\n",
      "nom_q_9103d\n",
      "['Company management' 'Helping families in need']\n",
      "nom_q_9103e\n",
      "['Doktor' 'Physical training']\n",
      "nom_q_9103f\n",
      "['Music' 'Working with wood']\n",
      "nom_q_9103g\n",
      "['Physics' 'Economic sciences']\n",
      "nom_q_9103h\n",
      "['Education' 'Art']\n",
      "nom_q_9103i\n",
      "['Law' 'Artist / Folk Crafts']\n",
      "nom_q_9103j\n",
      "['Child care' 'Stand electronics']\n",
      "nom_q_9103k\n",
      "['Playing in a group, being a member of a music team' 'Landscaping']\n",
      "nom_q_9103l\n",
      "['Travel agent' 'Mechanic']\n",
      "nom_q_9103m\n",
      "['Work in the office' 'Picture description']\n",
      "nom_q_9103n\n",
      "['The nurse of mercy' 'Forest']\n",
      "nom_q_9103o\n",
      "['Economist' 'Electric']\n",
      "nom_q_9103p\n",
      "['Accounting' 'Geology']\n",
      "nom_q_9103q\n",
      "['Economist' 'Builder']\n",
      "nom_q_9103r\n",
      "['Helping patients in the hospital'\n",
      " 'Confirmation of a home loan (mortgage)']\n",
      "nom_q_9103s\n",
      "['Public administration' 'Private sector' 'Non-governmental organization'\n",
      " 'Intergovernmental organizations (World Bank, OSCE, etc.)'\n",
      " \"I didn't want to work\"]\n",
      "nom_q_9204\n"
     ]
    }
   ],
   "source": [
    "for c in X_test:\n",
    "    print(X_test[c].unique())\n",
    "    print(c)"
   ]
  },
  {
   "cell_type": "code",
   "execution_count": 12,
   "metadata": {},
   "outputs": [
    {
     "name": "stdout",
     "output_type": "stream",
     "text": [
      "['Electronics' 'Chemistry']\n",
      "nom_q_9103b\n",
      "['Photography' 'Botany']\n",
      "nom_q_9103c\n",
      "['Owning_store' 'Advice_on_work']\n",
      "nom_q_9103d\n",
      "['Company_management' 'Helping_families_in_need']\n",
      "nom_q_9103e\n",
      "['Physical_training' 'Doktor']\n",
      "nom_q_9103f\n",
      "['Music' 'Working_with_wood']\n",
      "nom_q_9103g\n",
      "['Physics' 'Economic_sciences']\n",
      "nom_q_9103h\n",
      "['Education' 'Art']\n",
      "nom_q_9103i\n",
      "['Law' 'Artist_Folk_Crafts']\n",
      "nom_q_9103j\n",
      "['Child_care' 'Stand_electronics']\n",
      "nom_q_9103k\n",
      "['Landscaping' 'Playing_in_group']\n",
      "nom_q_9103l\n",
      "['Travel_agent' 'Mechanic']\n",
      "nom_q_9103m\n",
      "['Work_office' 'Picture_description']\n",
      "nom_q_9103n\n",
      "['Forest' 'nurse_mercy']\n",
      "nom_q_9103o\n",
      "['Electric' 'Economist']\n",
      "nom_q_9103p\n",
      "['Accounting' 'Geology']\n",
      "nom_q_9103q\n",
      "['Builder' 'Economist']\n",
      "nom_q_9103r\n",
      "['mortgage' 'helping_hospital']\n",
      "nom_q_9103s\n",
      "['OTHER' nan]\n",
      "nom_q_9204\n",
      "['people_contact' 'creative' 'office' 'business' 'practical' 'scientific'\n",
      " 'outdoors']\n",
      "occupation\n"
     ]
    }
   ],
   "source": [
    "for c in df:\n",
    "    print(df[c].unique())\n",
    "    print(c)"
   ]
  },
  {
   "cell_type": "code",
   "execution_count": 11,
   "metadata": {},
   "outputs": [
    {
     "data": {
      "text/plain": [
       "Index(['nom_q_9103b', 'nom_q_9103c', 'nom_q_9103d', 'nom_q_9103e',\n",
       "       'nom_q_9103f', 'nom_q_9103g', 'nom_q_9103h', 'nom_q_9103i',\n",
       "       'nom_q_9103j', 'nom_q_9103k', 'nom_q_9103l', 'nom_q_9103m',\n",
       "       'nom_q_9103n', 'nom_q_9103o', 'nom_q_9103p', 'nom_q_9103q',\n",
       "       'nom_q_9103r', 'nom_q_9103s', 'nom_q_9204', 'occupation'],\n",
       "      dtype='object')"
      ]
     },
     "execution_count": 11,
     "metadata": {},
     "output_type": "execute_result"
    }
   ],
   "source": [
    "df['nom_q_9103o'].replace('The nurse of mercy','nurse_mercy',inplace=True)\n",
    "df['nom_q_9103s'].replace('Helping patients in the hospital','helping_hospital',inplace=True)\n",
    "df['nom_q_9103s'].replace('Confirmation of a home loan (mortgage)', 'mortgage', inplace=True)\n",
    "df['nom_q_9204'].replace('Public administration','OTHER',inplace=True)\n",
    "df['nom_q_9204'].replace('Private sector','OTHER',inplace=True)\n",
    "df['nom_q_9204'].replace('Non-governmental organization','OTHER',inplace=True)\n",
    "df['nom_q_9204'].replace('Intergovernmental organizations (World Bank, OSCE, etc.)','OTHER',inplace=True)\n",
    "df['nom_q_9204'].replace(\"I didn't want to work\",'OTHER',inplace=True)\n",
    "df['nom_q_9204'].replace(\"nan\",'OTHER',inplace=True)\n",
    "df['nom_q_9204'].replace(\"Other (show) ________________________\",'OTHER',inplace=True)\n",
    "df['nom_q_9204'].replace(\"javonon\",'OTHER',inplace=True)\n",
    "\n",
    "\n",
    "\n",
    "df['nom_q_9103d'].replace('Owning a store','Owning_store', inplace=True)\n",
    "df['nom_q_9103d'].replace('Advice on work','Advice_on_work',inplace=True)\n",
    "df['nom_q_9103e'].replace('Company management','Company_management',inplace=True)\n",
    "df['nom_q_9103e'].replace('Helping families in need','Helping_families_in_need',inplace=True)\n",
    "df['nom_q_9103f'].replace('Physical training','Physical_training',inplace=True)\n",
    "df['nom_q_9103g'].replace('Working with wood','Working_with_wood',inplace=True)\n",
    "df['nom_q_9103h'].replace('Economic sciences','Economic_sciences',inplace=True)\n",
    "df['nom_q_9103j'].replace('Artist / Folk Crafts','Artist_Folk_Crafts',inplace=True)\n",
    "df['nom_q_9103k'].replace('Child care','Child_care',inplace=True)\n",
    "df['nom_q_9103k'].replace('Stand electronics','Stand_electronics',inplace=True)\n",
    "\n",
    "df['nom_q_9103l'].replace('Playing in a group, being a member of a music team','Playing_in_group',inplace=True)\n",
    "df['nom_q_9103m'].replace('Travel agent','Travel_agent',inplace=True)\n",
    "df['nom_q_9103n'].replace('Work in the office','Work_office',inplace=True)\n",
    "df['nom_q_9103n'].replace('Picture description','Picture_description',inplace=True)\n",
    "\n",
    "\n",
    "df.columns"
   ]
  },
  {
   "cell_type": "code",
   "execution_count": 10,
   "metadata": {
    "colab": {
     "base_uri": "https://localhost:8080/"
    },
    "id": "He4l_xxt-w65",
    "outputId": "ed311f8d-eec3-4998-894e-4b4245f35835"
   },
   "outputs": [
    {
     "data": {
      "text/plain": [
       "nom_q_9103b    0\n",
       "nom_q_9103c    0\n",
       "nom_q_9103d    0\n",
       "nom_q_9103e    0\n",
       "nom_q_9103f    0\n",
       "nom_q_9103g    0\n",
       "nom_q_9103h    0\n",
       "nom_q_9103i    0\n",
       "nom_q_9103j    0\n",
       "nom_q_9103k    0\n",
       "nom_q_9103l    0\n",
       "nom_q_9103m    0\n",
       "nom_q_9103n    0\n",
       "nom_q_9103o    0\n",
       "nom_q_9103p    0\n",
       "nom_q_9103q    0\n",
       "nom_q_9103r    0\n",
       "nom_q_9103s    0\n",
       "occupation     0\n",
       "dtype: int64"
      ]
     },
     "execution_count": 10,
     "metadata": {},
     "output_type": "execute_result"
    }
   ],
   "source": [
    "occup.isna().sum()"
   ]
  },
  {
   "cell_type": "code",
   "execution_count": 11,
   "metadata": {
    "id": "0ZwJWh7l-2_Z"
   },
   "outputs": [],
   "source": [
    "occup.dropna(inplace=True)"
   ]
  },
  {
   "cell_type": "code",
   "execution_count": 13,
   "metadata": {
    "colab": {
     "base_uri": "https://localhost:8080/"
    },
    "id": "TjAL2NW7-66p",
    "outputId": "2a303109-90e2-4a54-da1e-f0bbcac89565"
   },
   "outputs": [
    {
     "name": "stdout",
     "output_type": "stream",
     "text": [
      "Requirement already satisfied: catboost in /Library/Python/anaconda3/lib/python3.8/site-packages (1.0.3)\n",
      "Requirement already satisfied: matplotlib in /Library/Python/anaconda3/lib/python3.8/site-packages (from catboost) (3.4.3)\n",
      "Requirement already satisfied: pandas>=0.24.0 in /Library/Python/anaconda3/lib/python3.8/site-packages (from catboost) (1.3.4)\n",
      "Requirement already satisfied: six in /Library/Python/anaconda3/lib/python3.8/site-packages (from catboost) (1.16.0)\n",
      "Requirement already satisfied: plotly in /Library/Python/anaconda3/lib/python3.8/site-packages (from catboost) (5.3.1)\n",
      "Requirement already satisfied: scipy in /Library/Python/anaconda3/lib/python3.8/site-packages (from catboost) (1.7.1)\n",
      "Requirement already satisfied: numpy>=1.16.0 in /Library/Python/anaconda3/lib/python3.8/site-packages (from catboost) (1.22.3)\n",
      "Requirement already satisfied: graphviz in /Library/Python/anaconda3/lib/python3.8/site-packages (from catboost) (0.17)\n",
      "Requirement already satisfied: python-dateutil>=2.7.3 in /Library/Python/anaconda3/lib/python3.8/site-packages (from pandas>=0.24.0->catboost) (2.8.2)\n",
      "Requirement already satisfied: pytz>=2017.3 in /Library/Python/anaconda3/lib/python3.8/site-packages (from pandas>=0.24.0->catboost) (2021.3)\n",
      "Requirement already satisfied: kiwisolver>=1.0.1 in /Library/Python/anaconda3/lib/python3.8/site-packages (from matplotlib->catboost) (1.3.2)\n",
      "Requirement already satisfied: pillow>=6.2.0 in /Library/Python/anaconda3/lib/python3.8/site-packages (from matplotlib->catboost) (8.4.0)\n",
      "Requirement already satisfied: cycler>=0.10 in /Library/Python/anaconda3/lib/python3.8/site-packages (from matplotlib->catboost) (0.10.0)\n",
      "Requirement already satisfied: pyparsing>=2.2.1 in /Library/Python/anaconda3/lib/python3.8/site-packages (from matplotlib->catboost) (3.0.0)\n",
      "Requirement already satisfied: tenacity>=6.2.0 in /Library/Python/anaconda3/lib/python3.8/site-packages (from plotly->catboost) (8.0.1)\n"
     ]
    }
   ],
   "source": [
    "!pip install catboost"
   ]
  },
  {
   "cell_type": "code",
   "execution_count": 12,
   "metadata": {
    "id": "tWde3RfA-8zJ"
   },
   "outputs": [],
   "source": [
    "from sklearn.model_selection import train_test_split\n",
    "from catboost import Pool, CatBoostClassifier"
   ]
  },
  {
   "cell_type": "code",
   "execution_count": 13,
   "metadata": {
    "id": "1V1F-DpB-_rY"
   },
   "outputs": [],
   "source": [
    "X=occup.drop(['occupation'],axis=1)\n",
    "y=occup['occupation']"
   ]
  },
  {
   "cell_type": "code",
   "execution_count": 14,
   "metadata": {},
   "outputs": [
    {
     "data": {
      "text/plain": [
       "array(['people_contact', 'creative', 'office', 'business', 'practical',\n",
       "       'scientific', 'outdoors'], dtype=object)"
      ]
     },
     "execution_count": 14,
     "metadata": {},
     "output_type": "execute_result"
    }
   ],
   "source": [
    "y.unique()"
   ]
  },
  {
   "cell_type": "code",
   "execution_count": 15,
   "metadata": {
    "id": "WocOgJKw_Q1o"
   },
   "outputs": [],
   "source": [
    "X_train, X_test, y_train, y_test = train_test_split(X, y, test_size=0.2, random_state=42,stratify=y)"
   ]
  },
  {
   "cell_type": "code",
   "execution_count": 16,
   "metadata": {
    "id": "vS90pEzD_W6I"
   },
   "outputs": [],
   "source": [
    "pool_train = Pool(X_train, y_train,cat_features = list(X.columns))\n",
    "\n",
    "pool_test = Pool(X_test,y_test, cat_features =list(X.columns))"
   ]
  },
  {
   "cell_type": "code",
   "execution_count": 17,
   "metadata": {},
   "outputs": [
    {
     "data": {
      "text/plain": [
       "<catboost.core.Pool at 0x7feeefe70340>"
      ]
     },
     "execution_count": 17,
     "metadata": {},
     "output_type": "execute_result"
    }
   ],
   "source": [
    "pool_train"
   ]
  },
  {
   "cell_type": "code",
   "execution_count": 31,
   "metadata": {},
   "outputs": [
    {
     "ename": "NameError",
     "evalue": "name 'params' is not defined",
     "output_type": "error",
     "traceback": [
      "\u001b[0;31m---------------------------------------------------------------------------\u001b[0m",
      "\u001b[0;31mNameError\u001b[0m                                 Traceback (most recent call last)",
      "\u001b[0;32m<ipython-input-31-bfd368200e6b>\u001b[0m in \u001b[0;36m<module>\u001b[0;34m\u001b[0m\n\u001b[0;32m----> 1\u001b[0;31m \u001b[0mparams\u001b[0m\u001b[0;34m\u001b[0m\u001b[0;34m\u001b[0m\u001b[0m\n\u001b[0m",
      "\u001b[0;31mNameError\u001b[0m: name 'params' is not defined"
     ]
    }
   ],
   "source": [
    "params"
   ]
  },
  {
   "cell_type": "code",
   "execution_count": 18,
   "metadata": {},
   "outputs": [
    {
     "data": {
      "text/plain": [
       "(880, 18)"
      ]
     },
     "execution_count": 18,
     "metadata": {},
     "output_type": "execute_result"
    }
   ],
   "source": [
    "X_test.shape"
   ]
  },
  {
   "cell_type": "code",
   "execution_count": 19,
   "metadata": {
    "scrolled": true
   },
   "outputs": [
    {
     "data": {
      "text/html": [
       "<div>\n",
       "<style scoped>\n",
       "    .dataframe tbody tr th:only-of-type {\n",
       "        vertical-align: middle;\n",
       "    }\n",
       "\n",
       "    .dataframe tbody tr th {\n",
       "        vertical-align: top;\n",
       "    }\n",
       "\n",
       "    .dataframe thead th {\n",
       "        text-align: right;\n",
       "    }\n",
       "</style>\n",
       "<table border=\"1\" class=\"dataframe\">\n",
       "  <thead>\n",
       "    <tr style=\"text-align: right;\">\n",
       "      <th></th>\n",
       "      <th>nom_q_9103b</th>\n",
       "      <th>nom_q_9103c</th>\n",
       "      <th>nom_q_9103d</th>\n",
       "      <th>nom_q_9103e</th>\n",
       "      <th>nom_q_9103f</th>\n",
       "      <th>nom_q_9103g</th>\n",
       "      <th>nom_q_9103h</th>\n",
       "      <th>nom_q_9103i</th>\n",
       "      <th>nom_q_9103j</th>\n",
       "      <th>nom_q_9103k</th>\n",
       "      <th>nom_q_9103l</th>\n",
       "      <th>nom_q_9103m</th>\n",
       "      <th>nom_q_9103n</th>\n",
       "      <th>nom_q_9103o</th>\n",
       "      <th>nom_q_9103p</th>\n",
       "      <th>nom_q_9103q</th>\n",
       "      <th>nom_q_9103r</th>\n",
       "      <th>nom_q_9103s</th>\n",
       "    </tr>\n",
       "  </thead>\n",
       "  <tbody>\n",
       "    <tr>\n",
       "      <th>1085</th>\n",
       "      <td>Chemistry</td>\n",
       "      <td>Botany</td>\n",
       "      <td>Owning_store</td>\n",
       "      <td>Company_management</td>\n",
       "      <td>Doktor</td>\n",
       "      <td>Music</td>\n",
       "      <td>Physics</td>\n",
       "      <td>Education</td>\n",
       "      <td>Law</td>\n",
       "      <td>Child_care</td>\n",
       "      <td>Playing_in_group</td>\n",
       "      <td>Travel_agent</td>\n",
       "      <td>Work_office</td>\n",
       "      <td>nurse_mercy</td>\n",
       "      <td>Economist</td>\n",
       "      <td>Accounting</td>\n",
       "      <td>Economist</td>\n",
       "      <td>helping_hospital</td>\n",
       "    </tr>\n",
       "    <tr>\n",
       "      <th>4059</th>\n",
       "      <td>Electronics</td>\n",
       "      <td>Photography</td>\n",
       "      <td>Owning_store</td>\n",
       "      <td>Company_management</td>\n",
       "      <td>Doktor</td>\n",
       "      <td>Working_with_wood</td>\n",
       "      <td>Economic_sciences</td>\n",
       "      <td>Education</td>\n",
       "      <td>Law</td>\n",
       "      <td>Stand_electronics</td>\n",
       "      <td>Landscaping</td>\n",
       "      <td>Travel_agent</td>\n",
       "      <td>Work_office</td>\n",
       "      <td>Forest</td>\n",
       "      <td>Economist</td>\n",
       "      <td>Accounting</td>\n",
       "      <td>Builder</td>\n",
       "      <td>mortgage</td>\n",
       "    </tr>\n",
       "    <tr>\n",
       "      <th>1363</th>\n",
       "      <td>Chemistry</td>\n",
       "      <td>Photography</td>\n",
       "      <td>Advice_on_work</td>\n",
       "      <td>Helping_families_in_need</td>\n",
       "      <td>Doktor</td>\n",
       "      <td>Music</td>\n",
       "      <td>Physics</td>\n",
       "      <td>Education</td>\n",
       "      <td>Law</td>\n",
       "      <td>Child_care</td>\n",
       "      <td>Playing_in_group</td>\n",
       "      <td>Travel_agent</td>\n",
       "      <td>Work_office</td>\n",
       "      <td>nurse_mercy</td>\n",
       "      <td>Economist</td>\n",
       "      <td>Accounting</td>\n",
       "      <td>Builder</td>\n",
       "      <td>helping_hospital</td>\n",
       "    </tr>\n",
       "    <tr>\n",
       "      <th>2342</th>\n",
       "      <td>Chemistry</td>\n",
       "      <td>Botany</td>\n",
       "      <td>Advice_on_work</td>\n",
       "      <td>Helping_families_in_need</td>\n",
       "      <td>Doktor</td>\n",
       "      <td>Working_with_wood</td>\n",
       "      <td>Economic_sciences</td>\n",
       "      <td>Education</td>\n",
       "      <td>Law</td>\n",
       "      <td>Stand_electronics</td>\n",
       "      <td>Landscaping</td>\n",
       "      <td>Mechanic</td>\n",
       "      <td>Work_office</td>\n",
       "      <td>Forest</td>\n",
       "      <td>Economist</td>\n",
       "      <td>Accounting</td>\n",
       "      <td>Economist</td>\n",
       "      <td>helping_hospital</td>\n",
       "    </tr>\n",
       "    <tr>\n",
       "      <th>3187</th>\n",
       "      <td>Chemistry</td>\n",
       "      <td>Botany</td>\n",
       "      <td>Advice_on_work</td>\n",
       "      <td>Helping_families_in_need</td>\n",
       "      <td>Physical_training</td>\n",
       "      <td>Music</td>\n",
       "      <td>Economic_sciences</td>\n",
       "      <td>Education</td>\n",
       "      <td>Artist_Folk_Crafts</td>\n",
       "      <td>Child_care</td>\n",
       "      <td>Playing_in_group</td>\n",
       "      <td>Mechanic</td>\n",
       "      <td>Work_office</td>\n",
       "      <td>nurse_mercy</td>\n",
       "      <td>Economist</td>\n",
       "      <td>Geology</td>\n",
       "      <td>Builder</td>\n",
       "      <td>mortgage</td>\n",
       "    </tr>\n",
       "    <tr>\n",
       "      <th>...</th>\n",
       "      <td>...</td>\n",
       "      <td>...</td>\n",
       "      <td>...</td>\n",
       "      <td>...</td>\n",
       "      <td>...</td>\n",
       "      <td>...</td>\n",
       "      <td>...</td>\n",
       "      <td>...</td>\n",
       "      <td>...</td>\n",
       "      <td>...</td>\n",
       "      <td>...</td>\n",
       "      <td>...</td>\n",
       "      <td>...</td>\n",
       "      <td>...</td>\n",
       "      <td>...</td>\n",
       "      <td>...</td>\n",
       "      <td>...</td>\n",
       "      <td>...</td>\n",
       "    </tr>\n",
       "    <tr>\n",
       "      <th>352</th>\n",
       "      <td>Chemistry</td>\n",
       "      <td>Botany</td>\n",
       "      <td>Owning_store</td>\n",
       "      <td>Helping_families_in_need</td>\n",
       "      <td>Doktor</td>\n",
       "      <td>Music</td>\n",
       "      <td>Economic_sciences</td>\n",
       "      <td>Education</td>\n",
       "      <td>Artist_Folk_Crafts</td>\n",
       "      <td>Stand_electronics</td>\n",
       "      <td>Landscaping</td>\n",
       "      <td>Mechanic</td>\n",
       "      <td>Work_office</td>\n",
       "      <td>Forest</td>\n",
       "      <td>Electric</td>\n",
       "      <td>Geology</td>\n",
       "      <td>Builder</td>\n",
       "      <td>helping_hospital</td>\n",
       "    </tr>\n",
       "    <tr>\n",
       "      <th>3429</th>\n",
       "      <td>Electronics</td>\n",
       "      <td>Botany</td>\n",
       "      <td>Advice_on_work</td>\n",
       "      <td>Helping_families_in_need</td>\n",
       "      <td>Doktor</td>\n",
       "      <td>Working_with_wood</td>\n",
       "      <td>Physics</td>\n",
       "      <td>Art</td>\n",
       "      <td>Artist_Folk_Crafts</td>\n",
       "      <td>Stand_electronics</td>\n",
       "      <td>Landscaping</td>\n",
       "      <td>Travel_agent</td>\n",
       "      <td>Work_office</td>\n",
       "      <td>Forest</td>\n",
       "      <td>Economist</td>\n",
       "      <td>Accounting</td>\n",
       "      <td>Builder</td>\n",
       "      <td>mortgage</td>\n",
       "    </tr>\n",
       "    <tr>\n",
       "      <th>3661</th>\n",
       "      <td>Electronics</td>\n",
       "      <td>Photography</td>\n",
       "      <td>Advice_on_work</td>\n",
       "      <td>Company_management</td>\n",
       "      <td>Doktor</td>\n",
       "      <td>Music</td>\n",
       "      <td>Physics</td>\n",
       "      <td>Education</td>\n",
       "      <td>Law</td>\n",
       "      <td>Stand_electronics</td>\n",
       "      <td>Playing_in_group</td>\n",
       "      <td>Travel_agent</td>\n",
       "      <td>Work_office</td>\n",
       "      <td>Forest</td>\n",
       "      <td>Economist</td>\n",
       "      <td>Accounting</td>\n",
       "      <td>Builder</td>\n",
       "      <td>mortgage</td>\n",
       "    </tr>\n",
       "    <tr>\n",
       "      <th>974</th>\n",
       "      <td>Chemistry</td>\n",
       "      <td>Botany</td>\n",
       "      <td>Advice_on_work</td>\n",
       "      <td>Helping_families_in_need</td>\n",
       "      <td>Doktor</td>\n",
       "      <td>Music</td>\n",
       "      <td>Economic_sciences</td>\n",
       "      <td>Education</td>\n",
       "      <td>Law</td>\n",
       "      <td>Child_care</td>\n",
       "      <td>Playing_in_group</td>\n",
       "      <td>Travel_agent</td>\n",
       "      <td>Work_office</td>\n",
       "      <td>nurse_mercy</td>\n",
       "      <td>Economist</td>\n",
       "      <td>Accounting</td>\n",
       "      <td>Economist</td>\n",
       "      <td>helping_hospital</td>\n",
       "    </tr>\n",
       "    <tr>\n",
       "      <th>2729</th>\n",
       "      <td>Chemistry</td>\n",
       "      <td>Botany</td>\n",
       "      <td>Owning_store</td>\n",
       "      <td>Company_management</td>\n",
       "      <td>Doktor</td>\n",
       "      <td>Music</td>\n",
       "      <td>Physics</td>\n",
       "      <td>Education</td>\n",
       "      <td>Law</td>\n",
       "      <td>Child_care</td>\n",
       "      <td>Playing_in_group</td>\n",
       "      <td>Travel_agent</td>\n",
       "      <td>Work_office</td>\n",
       "      <td>nurse_mercy</td>\n",
       "      <td>Economist</td>\n",
       "      <td>Accounting</td>\n",
       "      <td>Economist</td>\n",
       "      <td>helping_hospital</td>\n",
       "    </tr>\n",
       "  </tbody>\n",
       "</table>\n",
       "<p>880 rows × 18 columns</p>\n",
       "</div>"
      ],
      "text/plain": [
       "      nom_q_9103b  nom_q_9103c     nom_q_9103d               nom_q_9103e  \\\n",
       "1085    Chemistry       Botany    Owning_store        Company_management   \n",
       "4059  Electronics  Photography    Owning_store        Company_management   \n",
       "1363    Chemistry  Photography  Advice_on_work  Helping_families_in_need   \n",
       "2342    Chemistry       Botany  Advice_on_work  Helping_families_in_need   \n",
       "3187    Chemistry       Botany  Advice_on_work  Helping_families_in_need   \n",
       "...           ...          ...             ...                       ...   \n",
       "352     Chemistry       Botany    Owning_store  Helping_families_in_need   \n",
       "3429  Electronics       Botany  Advice_on_work  Helping_families_in_need   \n",
       "3661  Electronics  Photography  Advice_on_work        Company_management   \n",
       "974     Chemistry       Botany  Advice_on_work  Helping_families_in_need   \n",
       "2729    Chemistry       Botany    Owning_store        Company_management   \n",
       "\n",
       "            nom_q_9103f        nom_q_9103g        nom_q_9103h nom_q_9103i  \\\n",
       "1085             Doktor              Music            Physics   Education   \n",
       "4059             Doktor  Working_with_wood  Economic_sciences   Education   \n",
       "1363             Doktor              Music            Physics   Education   \n",
       "2342             Doktor  Working_with_wood  Economic_sciences   Education   \n",
       "3187  Physical_training              Music  Economic_sciences   Education   \n",
       "...                 ...                ...                ...         ...   \n",
       "352              Doktor              Music  Economic_sciences   Education   \n",
       "3429             Doktor  Working_with_wood            Physics         Art   \n",
       "3661             Doktor              Music            Physics   Education   \n",
       "974              Doktor              Music  Economic_sciences   Education   \n",
       "2729             Doktor              Music            Physics   Education   \n",
       "\n",
       "             nom_q_9103j        nom_q_9103k       nom_q_9103l   nom_q_9103m  \\\n",
       "1085                 Law         Child_care  Playing_in_group  Travel_agent   \n",
       "4059                 Law  Stand_electronics       Landscaping  Travel_agent   \n",
       "1363                 Law         Child_care  Playing_in_group  Travel_agent   \n",
       "2342                 Law  Stand_electronics       Landscaping      Mechanic   \n",
       "3187  Artist_Folk_Crafts         Child_care  Playing_in_group      Mechanic   \n",
       "...                  ...                ...               ...           ...   \n",
       "352   Artist_Folk_Crafts  Stand_electronics       Landscaping      Mechanic   \n",
       "3429  Artist_Folk_Crafts  Stand_electronics       Landscaping  Travel_agent   \n",
       "3661                 Law  Stand_electronics  Playing_in_group  Travel_agent   \n",
       "974                  Law         Child_care  Playing_in_group  Travel_agent   \n",
       "2729                 Law         Child_care  Playing_in_group  Travel_agent   \n",
       "\n",
       "      nom_q_9103n  nom_q_9103o nom_q_9103p nom_q_9103q nom_q_9103r  \\\n",
       "1085  Work_office  nurse_mercy   Economist  Accounting   Economist   \n",
       "4059  Work_office       Forest   Economist  Accounting     Builder   \n",
       "1363  Work_office  nurse_mercy   Economist  Accounting     Builder   \n",
       "2342  Work_office       Forest   Economist  Accounting   Economist   \n",
       "3187  Work_office  nurse_mercy   Economist     Geology     Builder   \n",
       "...           ...          ...         ...         ...         ...   \n",
       "352   Work_office       Forest    Electric     Geology     Builder   \n",
       "3429  Work_office       Forest   Economist  Accounting     Builder   \n",
       "3661  Work_office       Forest   Economist  Accounting     Builder   \n",
       "974   Work_office  nurse_mercy   Economist  Accounting   Economist   \n",
       "2729  Work_office  nurse_mercy   Economist  Accounting   Economist   \n",
       "\n",
       "           nom_q_9103s  \n",
       "1085  helping_hospital  \n",
       "4059          mortgage  \n",
       "1363  helping_hospital  \n",
       "2342  helping_hospital  \n",
       "3187          mortgage  \n",
       "...                ...  \n",
       "352   helping_hospital  \n",
       "3429          mortgage  \n",
       "3661          mortgage  \n",
       "974   helping_hospital  \n",
       "2729  helping_hospital  \n",
       "\n",
       "[880 rows x 18 columns]"
      ]
     },
     "execution_count": 19,
     "metadata": {},
     "output_type": "execute_result"
    }
   ],
   "source": [
    "X_test"
   ]
  },
  {
   "cell_type": "code",
   "execution_count": 20,
   "metadata": {},
   "outputs": [
    {
     "ename": "AttributeError",
     "evalue": "'DataFrame' object has no attribute 'nom_q_9204'",
     "output_type": "error",
     "traceback": [
      "\u001b[0;31m---------------------------------------------------------------------------\u001b[0m",
      "\u001b[0;31mAttributeError\u001b[0m                            Traceback (most recent call last)",
      "\u001b[0;32m<ipython-input-20-8f74a2304188>\u001b[0m in \u001b[0;36m<module>\u001b[0;34m\u001b[0m\n\u001b[0;32m----> 1\u001b[0;31m \u001b[0mX_test\u001b[0m\u001b[0;34m.\u001b[0m\u001b[0mnom_q_9204\u001b[0m\u001b[0;34m.\u001b[0m\u001b[0munique\u001b[0m\u001b[0;34m(\u001b[0m\u001b[0;34m)\u001b[0m\u001b[0;34m\u001b[0m\u001b[0;34m\u001b[0m\u001b[0m\n\u001b[0m",
      "\u001b[0;32m/Library/Python/anaconda3/lib/python3.8/site-packages/pandas/core/generic.py\u001b[0m in \u001b[0;36m__getattr__\u001b[0;34m(self, name)\u001b[0m\n\u001b[1;32m   5485\u001b[0m         ):\n\u001b[1;32m   5486\u001b[0m             \u001b[0;32mreturn\u001b[0m \u001b[0mself\u001b[0m\u001b[0;34m[\u001b[0m\u001b[0mname\u001b[0m\u001b[0;34m]\u001b[0m\u001b[0;34m\u001b[0m\u001b[0;34m\u001b[0m\u001b[0m\n\u001b[0;32m-> 5487\u001b[0;31m         \u001b[0;32mreturn\u001b[0m \u001b[0mobject\u001b[0m\u001b[0;34m.\u001b[0m\u001b[0m__getattribute__\u001b[0m\u001b[0;34m(\u001b[0m\u001b[0mself\u001b[0m\u001b[0;34m,\u001b[0m \u001b[0mname\u001b[0m\u001b[0;34m)\u001b[0m\u001b[0;34m\u001b[0m\u001b[0;34m\u001b[0m\u001b[0m\n\u001b[0m\u001b[1;32m   5488\u001b[0m \u001b[0;34m\u001b[0m\u001b[0m\n\u001b[1;32m   5489\u001b[0m     \u001b[0;32mdef\u001b[0m \u001b[0m__setattr__\u001b[0m\u001b[0;34m(\u001b[0m\u001b[0mself\u001b[0m\u001b[0;34m,\u001b[0m \u001b[0mname\u001b[0m\u001b[0;34m:\u001b[0m \u001b[0mstr\u001b[0m\u001b[0;34m,\u001b[0m \u001b[0mvalue\u001b[0m\u001b[0;34m)\u001b[0m \u001b[0;34m->\u001b[0m \u001b[0;32mNone\u001b[0m\u001b[0;34m:\u001b[0m\u001b[0;34m\u001b[0m\u001b[0;34m\u001b[0m\u001b[0m\n",
      "\u001b[0;31mAttributeError\u001b[0m: 'DataFrame' object has no attribute 'nom_q_9204'"
     ]
    }
   ],
   "source": [
    "X_test.nom_q_9204.unique()"
   ]
  },
  {
   "cell_type": "code",
   "execution_count": 21,
   "metadata": {
    "id": "cwSqXKHH_bAo"
   },
   "outputs": [],
   "source": [
    "params = {\n",
    "    'iterations':1000,\n",
    "    'leaf_estimation_method': 'Newton',\n",
    "    'learning_rate': 0.03,\n",
    "    'depth': 8,\n",
    "    'bootstrap_type': 'Bernoulli',\n",
    "    'objective': 'MultiClass',\n",
    "    \n",
    "    'eval_metric': 'MultiClass',\n",
    "    'subsample': 0.8,\n",
    "    'random_state': 42,\n",
    "    'random_strength':0.1,\n",
    "    'verbose': 0,\n",
    "    \"eval_metric\" : 'TotalF1',\n",
    "    \"early_stopping_rounds\" : 100\n",
    "}\n",
    "model=CatBoostClassifier(**params)\n"
   ]
  },
  {
   "cell_type": "code",
   "execution_count": 22,
   "metadata": {
    "colab": {
     "base_uri": "https://localhost:8080/",
     "height": 35,
     "referenced_widgets": [
      "7b59ffc250844a13b565830b34a3098d"
     ]
    },
    "id": "-2NmkmUy_jf5",
    "outputId": "da91e4c2-0511-48f1-ade8-a98f7eddb27e"
   },
   "outputs": [
    {
     "data": {
      "application/vnd.jupyter.widget-view+json": {
       "model_id": "e163fdf360b042ac8a92534783f8746e",
       "version_major": 2,
       "version_minor": 0
      },
      "text/plain": [
       "MetricVisualizer(layout=Layout(align_self='stretch', height='500px'))"
      ]
     },
     "metadata": {},
     "output_type": "display_data"
    },
    {
     "data": {
      "text/plain": [
       "<catboost.core.CatBoostClassifier at 0x7feeefe738e0>"
      ]
     },
     "execution_count": 22,
     "metadata": {},
     "output_type": "execute_result"
    }
   ],
   "source": [
    "model.fit(pool_train,plot=True,eval_set=pool_test)"
   ]
  },
  {
   "cell_type": "code",
   "execution_count": 23,
   "metadata": {
    "id": "H4agXU51_lNq"
   },
   "outputs": [],
   "source": [
    "from sklearn.metrics import classification_report, confusion_matrix"
   ]
  },
  {
   "cell_type": "code",
   "execution_count": 24,
   "metadata": {
    "colab": {
     "base_uri": "https://localhost:8080/"
    },
    "id": "YNCDVMP-_nTp",
    "outputId": "b21514a7-1ee1-40c5-c9c6-ae755eef7e34"
   },
   "outputs": [
    {
     "name": "stdout",
     "output_type": "stream",
     "text": [
      "                precision    recall  f1-score   support\n",
      "\n",
      "      business       0.28      0.10      0.15        80\n",
      "      creative       0.62      0.18      0.28        28\n",
      "        office       0.37      0.49      0.42       218\n",
      "      outdoors       0.14      0.02      0.03        61\n",
      "people_contact       0.45      0.66      0.53       322\n",
      "     practical       0.44      0.21      0.28        68\n",
      "    scientific       0.35      0.16      0.21       103\n",
      "\n",
      "      accuracy                           0.41       880\n",
      "     macro avg       0.38      0.26      0.27       880\n",
      "  weighted avg       0.39      0.41      0.37       880\n",
      "\n"
     ]
    }
   ],
   "source": [
    "y_pred=model.predict(X_test)\n",
    "print(classification_report(y_test,y_pred))"
   ]
  },
  {
   "cell_type": "code",
   "execution_count": 25,
   "metadata": {},
   "outputs": [
    {
     "data": {
      "text/html": [
       "<div>\n",
       "<style scoped>\n",
       "    .dataframe tbody tr th:only-of-type {\n",
       "        vertical-align: middle;\n",
       "    }\n",
       "\n",
       "    .dataframe tbody tr th {\n",
       "        vertical-align: top;\n",
       "    }\n",
       "\n",
       "    .dataframe thead th {\n",
       "        text-align: right;\n",
       "    }\n",
       "</style>\n",
       "<table border=\"1\" class=\"dataframe\">\n",
       "  <thead>\n",
       "    <tr style=\"text-align: right;\">\n",
       "      <th></th>\n",
       "      <th>nom_q_9103b</th>\n",
       "      <th>nom_q_9103c</th>\n",
       "      <th>nom_q_9103d</th>\n",
       "      <th>nom_q_9103e</th>\n",
       "      <th>nom_q_9103f</th>\n",
       "      <th>nom_q_9103g</th>\n",
       "      <th>nom_q_9103h</th>\n",
       "      <th>nom_q_9103i</th>\n",
       "      <th>nom_q_9103j</th>\n",
       "      <th>nom_q_9103k</th>\n",
       "      <th>nom_q_9103l</th>\n",
       "      <th>nom_q_9103m</th>\n",
       "      <th>nom_q_9103n</th>\n",
       "      <th>nom_q_9103o</th>\n",
       "      <th>nom_q_9103p</th>\n",
       "      <th>nom_q_9103q</th>\n",
       "      <th>nom_q_9103r</th>\n",
       "      <th>nom_q_9103s</th>\n",
       "    </tr>\n",
       "  </thead>\n",
       "  <tbody>\n",
       "    <tr>\n",
       "      <th>1085</th>\n",
       "      <td>Chemistry</td>\n",
       "      <td>Botany</td>\n",
       "      <td>Owning_store</td>\n",
       "      <td>Company_management</td>\n",
       "      <td>Doktor</td>\n",
       "      <td>Music</td>\n",
       "      <td>Physics</td>\n",
       "      <td>Education</td>\n",
       "      <td>Law</td>\n",
       "      <td>Child_care</td>\n",
       "      <td>Playing_in_group</td>\n",
       "      <td>Travel_agent</td>\n",
       "      <td>Work_office</td>\n",
       "      <td>nurse_mercy</td>\n",
       "      <td>Economist</td>\n",
       "      <td>Accounting</td>\n",
       "      <td>Economist</td>\n",
       "      <td>helping_hospital</td>\n",
       "    </tr>\n",
       "    <tr>\n",
       "      <th>4059</th>\n",
       "      <td>Electronics</td>\n",
       "      <td>Photography</td>\n",
       "      <td>Owning_store</td>\n",
       "      <td>Company_management</td>\n",
       "      <td>Doktor</td>\n",
       "      <td>Working_with_wood</td>\n",
       "      <td>Economic_sciences</td>\n",
       "      <td>Education</td>\n",
       "      <td>Law</td>\n",
       "      <td>Stand_electronics</td>\n",
       "      <td>Landscaping</td>\n",
       "      <td>Travel_agent</td>\n",
       "      <td>Work_office</td>\n",
       "      <td>Forest</td>\n",
       "      <td>Economist</td>\n",
       "      <td>Accounting</td>\n",
       "      <td>Builder</td>\n",
       "      <td>mortgage</td>\n",
       "    </tr>\n",
       "    <tr>\n",
       "      <th>1363</th>\n",
       "      <td>Chemistry</td>\n",
       "      <td>Photography</td>\n",
       "      <td>Advice_on_work</td>\n",
       "      <td>Helping_families_in_need</td>\n",
       "      <td>Doktor</td>\n",
       "      <td>Music</td>\n",
       "      <td>Physics</td>\n",
       "      <td>Education</td>\n",
       "      <td>Law</td>\n",
       "      <td>Child_care</td>\n",
       "      <td>Playing_in_group</td>\n",
       "      <td>Travel_agent</td>\n",
       "      <td>Work_office</td>\n",
       "      <td>nurse_mercy</td>\n",
       "      <td>Economist</td>\n",
       "      <td>Accounting</td>\n",
       "      <td>Builder</td>\n",
       "      <td>helping_hospital</td>\n",
       "    </tr>\n",
       "    <tr>\n",
       "      <th>2342</th>\n",
       "      <td>Chemistry</td>\n",
       "      <td>Botany</td>\n",
       "      <td>Advice_on_work</td>\n",
       "      <td>Helping_families_in_need</td>\n",
       "      <td>Doktor</td>\n",
       "      <td>Working_with_wood</td>\n",
       "      <td>Economic_sciences</td>\n",
       "      <td>Education</td>\n",
       "      <td>Law</td>\n",
       "      <td>Stand_electronics</td>\n",
       "      <td>Landscaping</td>\n",
       "      <td>Mechanic</td>\n",
       "      <td>Work_office</td>\n",
       "      <td>Forest</td>\n",
       "      <td>Economist</td>\n",
       "      <td>Accounting</td>\n",
       "      <td>Economist</td>\n",
       "      <td>helping_hospital</td>\n",
       "    </tr>\n",
       "    <tr>\n",
       "      <th>3187</th>\n",
       "      <td>Chemistry</td>\n",
       "      <td>Botany</td>\n",
       "      <td>Advice_on_work</td>\n",
       "      <td>Helping_families_in_need</td>\n",
       "      <td>Physical_training</td>\n",
       "      <td>Music</td>\n",
       "      <td>Economic_sciences</td>\n",
       "      <td>Education</td>\n",
       "      <td>Artist_Folk_Crafts</td>\n",
       "      <td>Child_care</td>\n",
       "      <td>Playing_in_group</td>\n",
       "      <td>Mechanic</td>\n",
       "      <td>Work_office</td>\n",
       "      <td>nurse_mercy</td>\n",
       "      <td>Economist</td>\n",
       "      <td>Geology</td>\n",
       "      <td>Builder</td>\n",
       "      <td>mortgage</td>\n",
       "    </tr>\n",
       "    <tr>\n",
       "      <th>...</th>\n",
       "      <td>...</td>\n",
       "      <td>...</td>\n",
       "      <td>...</td>\n",
       "      <td>...</td>\n",
       "      <td>...</td>\n",
       "      <td>...</td>\n",
       "      <td>...</td>\n",
       "      <td>...</td>\n",
       "      <td>...</td>\n",
       "      <td>...</td>\n",
       "      <td>...</td>\n",
       "      <td>...</td>\n",
       "      <td>...</td>\n",
       "      <td>...</td>\n",
       "      <td>...</td>\n",
       "      <td>...</td>\n",
       "      <td>...</td>\n",
       "      <td>...</td>\n",
       "    </tr>\n",
       "    <tr>\n",
       "      <th>352</th>\n",
       "      <td>Chemistry</td>\n",
       "      <td>Botany</td>\n",
       "      <td>Owning_store</td>\n",
       "      <td>Helping_families_in_need</td>\n",
       "      <td>Doktor</td>\n",
       "      <td>Music</td>\n",
       "      <td>Economic_sciences</td>\n",
       "      <td>Education</td>\n",
       "      <td>Artist_Folk_Crafts</td>\n",
       "      <td>Stand_electronics</td>\n",
       "      <td>Landscaping</td>\n",
       "      <td>Mechanic</td>\n",
       "      <td>Work_office</td>\n",
       "      <td>Forest</td>\n",
       "      <td>Electric</td>\n",
       "      <td>Geology</td>\n",
       "      <td>Builder</td>\n",
       "      <td>helping_hospital</td>\n",
       "    </tr>\n",
       "    <tr>\n",
       "      <th>3429</th>\n",
       "      <td>Electronics</td>\n",
       "      <td>Botany</td>\n",
       "      <td>Advice_on_work</td>\n",
       "      <td>Helping_families_in_need</td>\n",
       "      <td>Doktor</td>\n",
       "      <td>Working_with_wood</td>\n",
       "      <td>Physics</td>\n",
       "      <td>Art</td>\n",
       "      <td>Artist_Folk_Crafts</td>\n",
       "      <td>Stand_electronics</td>\n",
       "      <td>Landscaping</td>\n",
       "      <td>Travel_agent</td>\n",
       "      <td>Work_office</td>\n",
       "      <td>Forest</td>\n",
       "      <td>Economist</td>\n",
       "      <td>Accounting</td>\n",
       "      <td>Builder</td>\n",
       "      <td>mortgage</td>\n",
       "    </tr>\n",
       "    <tr>\n",
       "      <th>3661</th>\n",
       "      <td>Electronics</td>\n",
       "      <td>Photography</td>\n",
       "      <td>Advice_on_work</td>\n",
       "      <td>Company_management</td>\n",
       "      <td>Doktor</td>\n",
       "      <td>Music</td>\n",
       "      <td>Physics</td>\n",
       "      <td>Education</td>\n",
       "      <td>Law</td>\n",
       "      <td>Stand_electronics</td>\n",
       "      <td>Playing_in_group</td>\n",
       "      <td>Travel_agent</td>\n",
       "      <td>Work_office</td>\n",
       "      <td>Forest</td>\n",
       "      <td>Economist</td>\n",
       "      <td>Accounting</td>\n",
       "      <td>Builder</td>\n",
       "      <td>mortgage</td>\n",
       "    </tr>\n",
       "    <tr>\n",
       "      <th>974</th>\n",
       "      <td>Chemistry</td>\n",
       "      <td>Botany</td>\n",
       "      <td>Advice_on_work</td>\n",
       "      <td>Helping_families_in_need</td>\n",
       "      <td>Doktor</td>\n",
       "      <td>Music</td>\n",
       "      <td>Economic_sciences</td>\n",
       "      <td>Education</td>\n",
       "      <td>Law</td>\n",
       "      <td>Child_care</td>\n",
       "      <td>Playing_in_group</td>\n",
       "      <td>Travel_agent</td>\n",
       "      <td>Work_office</td>\n",
       "      <td>nurse_mercy</td>\n",
       "      <td>Economist</td>\n",
       "      <td>Accounting</td>\n",
       "      <td>Economist</td>\n",
       "      <td>helping_hospital</td>\n",
       "    </tr>\n",
       "    <tr>\n",
       "      <th>2729</th>\n",
       "      <td>Chemistry</td>\n",
       "      <td>Botany</td>\n",
       "      <td>Owning_store</td>\n",
       "      <td>Company_management</td>\n",
       "      <td>Doktor</td>\n",
       "      <td>Music</td>\n",
       "      <td>Physics</td>\n",
       "      <td>Education</td>\n",
       "      <td>Law</td>\n",
       "      <td>Child_care</td>\n",
       "      <td>Playing_in_group</td>\n",
       "      <td>Travel_agent</td>\n",
       "      <td>Work_office</td>\n",
       "      <td>nurse_mercy</td>\n",
       "      <td>Economist</td>\n",
       "      <td>Accounting</td>\n",
       "      <td>Economist</td>\n",
       "      <td>helping_hospital</td>\n",
       "    </tr>\n",
       "  </tbody>\n",
       "</table>\n",
       "<p>880 rows × 18 columns</p>\n",
       "</div>"
      ],
      "text/plain": [
       "      nom_q_9103b  nom_q_9103c     nom_q_9103d               nom_q_9103e  \\\n",
       "1085    Chemistry       Botany    Owning_store        Company_management   \n",
       "4059  Electronics  Photography    Owning_store        Company_management   \n",
       "1363    Chemistry  Photography  Advice_on_work  Helping_families_in_need   \n",
       "2342    Chemistry       Botany  Advice_on_work  Helping_families_in_need   \n",
       "3187    Chemistry       Botany  Advice_on_work  Helping_families_in_need   \n",
       "...           ...          ...             ...                       ...   \n",
       "352     Chemistry       Botany    Owning_store  Helping_families_in_need   \n",
       "3429  Electronics       Botany  Advice_on_work  Helping_families_in_need   \n",
       "3661  Electronics  Photography  Advice_on_work        Company_management   \n",
       "974     Chemistry       Botany  Advice_on_work  Helping_families_in_need   \n",
       "2729    Chemistry       Botany    Owning_store        Company_management   \n",
       "\n",
       "            nom_q_9103f        nom_q_9103g        nom_q_9103h nom_q_9103i  \\\n",
       "1085             Doktor              Music            Physics   Education   \n",
       "4059             Doktor  Working_with_wood  Economic_sciences   Education   \n",
       "1363             Doktor              Music            Physics   Education   \n",
       "2342             Doktor  Working_with_wood  Economic_sciences   Education   \n",
       "3187  Physical_training              Music  Economic_sciences   Education   \n",
       "...                 ...                ...                ...         ...   \n",
       "352              Doktor              Music  Economic_sciences   Education   \n",
       "3429             Doktor  Working_with_wood            Physics         Art   \n",
       "3661             Doktor              Music            Physics   Education   \n",
       "974              Doktor              Music  Economic_sciences   Education   \n",
       "2729             Doktor              Music            Physics   Education   \n",
       "\n",
       "             nom_q_9103j        nom_q_9103k       nom_q_9103l   nom_q_9103m  \\\n",
       "1085                 Law         Child_care  Playing_in_group  Travel_agent   \n",
       "4059                 Law  Stand_electronics       Landscaping  Travel_agent   \n",
       "1363                 Law         Child_care  Playing_in_group  Travel_agent   \n",
       "2342                 Law  Stand_electronics       Landscaping      Mechanic   \n",
       "3187  Artist_Folk_Crafts         Child_care  Playing_in_group      Mechanic   \n",
       "...                  ...                ...               ...           ...   \n",
       "352   Artist_Folk_Crafts  Stand_electronics       Landscaping      Mechanic   \n",
       "3429  Artist_Folk_Crafts  Stand_electronics       Landscaping  Travel_agent   \n",
       "3661                 Law  Stand_electronics  Playing_in_group  Travel_agent   \n",
       "974                  Law         Child_care  Playing_in_group  Travel_agent   \n",
       "2729                 Law         Child_care  Playing_in_group  Travel_agent   \n",
       "\n",
       "      nom_q_9103n  nom_q_9103o nom_q_9103p nom_q_9103q nom_q_9103r  \\\n",
       "1085  Work_office  nurse_mercy   Economist  Accounting   Economist   \n",
       "4059  Work_office       Forest   Economist  Accounting     Builder   \n",
       "1363  Work_office  nurse_mercy   Economist  Accounting     Builder   \n",
       "2342  Work_office       Forest   Economist  Accounting   Economist   \n",
       "3187  Work_office  nurse_mercy   Economist     Geology     Builder   \n",
       "...           ...          ...         ...         ...         ...   \n",
       "352   Work_office       Forest    Electric     Geology     Builder   \n",
       "3429  Work_office       Forest   Economist  Accounting     Builder   \n",
       "3661  Work_office       Forest   Economist  Accounting     Builder   \n",
       "974   Work_office  nurse_mercy   Economist  Accounting   Economist   \n",
       "2729  Work_office  nurse_mercy   Economist  Accounting   Economist   \n",
       "\n",
       "           nom_q_9103s  \n",
       "1085  helping_hospital  \n",
       "4059          mortgage  \n",
       "1363  helping_hospital  \n",
       "2342  helping_hospital  \n",
       "3187          mortgage  \n",
       "...                ...  \n",
       "352   helping_hospital  \n",
       "3429          mortgage  \n",
       "3661          mortgage  \n",
       "974   helping_hospital  \n",
       "2729  helping_hospital  \n",
       "\n",
       "[880 rows x 18 columns]"
      ]
     },
     "execution_count": 25,
     "metadata": {},
     "output_type": "execute_result"
    }
   ],
   "source": [
    "X_test"
   ]
  },
  {
   "cell_type": "code",
   "execution_count": 26,
   "metadata": {
    "colab": {
     "base_uri": "https://localhost:8080/",
     "height": 269
    },
    "id": "bGY8vDBL_puo",
    "outputId": "e74d6d76-0d2c-4822-a62e-6f28f80cbaf5"
   },
   "outputs": [
    {
     "data": {
      "text/html": [
       "<div>\n",
       "<style scoped>\n",
       "    .dataframe tbody tr th:only-of-type {\n",
       "        vertical-align: middle;\n",
       "    }\n",
       "\n",
       "    .dataframe tbody tr th {\n",
       "        vertical-align: top;\n",
       "    }\n",
       "\n",
       "    .dataframe thead th {\n",
       "        text-align: right;\n",
       "    }\n",
       "</style>\n",
       "<table border=\"1\" class=\"dataframe\">\n",
       "  <thead>\n",
       "    <tr style=\"text-align: right;\">\n",
       "      <th></th>\n",
       "      <th>0</th>\n",
       "      <th>1</th>\n",
       "      <th>2</th>\n",
       "      <th>3</th>\n",
       "      <th>4</th>\n",
       "      <th>5</th>\n",
       "      <th>6</th>\n",
       "    </tr>\n",
       "  </thead>\n",
       "  <tbody>\n",
       "    <tr>\n",
       "      <th>0</th>\n",
       "      <td>8</td>\n",
       "      <td>1</td>\n",
       "      <td>38</td>\n",
       "      <td>0</td>\n",
       "      <td>30</td>\n",
       "      <td>0</td>\n",
       "      <td>3</td>\n",
       "    </tr>\n",
       "    <tr>\n",
       "      <th>1</th>\n",
       "      <td>0</td>\n",
       "      <td>5</td>\n",
       "      <td>5</td>\n",
       "      <td>0</td>\n",
       "      <td>17</td>\n",
       "      <td>1</td>\n",
       "      <td>0</td>\n",
       "    </tr>\n",
       "    <tr>\n",
       "      <th>2</th>\n",
       "      <td>11</td>\n",
       "      <td>0</td>\n",
       "      <td>107</td>\n",
       "      <td>1</td>\n",
       "      <td>86</td>\n",
       "      <td>4</td>\n",
       "      <td>9</td>\n",
       "    </tr>\n",
       "    <tr>\n",
       "      <th>3</th>\n",
       "      <td>1</td>\n",
       "      <td>0</td>\n",
       "      <td>26</td>\n",
       "      <td>1</td>\n",
       "      <td>29</td>\n",
       "      <td>2</td>\n",
       "      <td>2</td>\n",
       "    </tr>\n",
       "    <tr>\n",
       "      <th>4</th>\n",
       "      <td>7</td>\n",
       "      <td>2</td>\n",
       "      <td>75</td>\n",
       "      <td>2</td>\n",
       "      <td>212</td>\n",
       "      <td>9</td>\n",
       "      <td>15</td>\n",
       "    </tr>\n",
       "    <tr>\n",
       "      <th>5</th>\n",
       "      <td>2</td>\n",
       "      <td>0</td>\n",
       "      <td>26</td>\n",
       "      <td>2</td>\n",
       "      <td>23</td>\n",
       "      <td>14</td>\n",
       "      <td>1</td>\n",
       "    </tr>\n",
       "    <tr>\n",
       "      <th>6</th>\n",
       "      <td>0</td>\n",
       "      <td>0</td>\n",
       "      <td>9</td>\n",
       "      <td>1</td>\n",
       "      <td>75</td>\n",
       "      <td>2</td>\n",
       "      <td>16</td>\n",
       "    </tr>\n",
       "  </tbody>\n",
       "</table>\n",
       "</div>"
      ],
      "text/plain": [
       "    0  1    2  3    4   5   6\n",
       "0   8  1   38  0   30   0   3\n",
       "1   0  5    5  0   17   1   0\n",
       "2  11  0  107  1   86   4   9\n",
       "3   1  0   26  1   29   2   2\n",
       "4   7  2   75  2  212   9  15\n",
       "5   2  0   26  2   23  14   1\n",
       "6   0  0    9  1   75   2  16"
      ]
     },
     "execution_count": 26,
     "metadata": {},
     "output_type": "execute_result"
    }
   ],
   "source": [
    "pd.DataFrame(confusion_matrix(y_test,y_pred))"
   ]
  },
  {
   "cell_type": "code",
   "execution_count": 30,
   "metadata": {},
   "outputs": [
    {
     "data": {
      "text/plain": [
       "1854    people_contact\n",
       "266           business\n",
       "1071        scientific\n",
       "1350    people_contact\n",
       "4158            office\n",
       "             ...      \n",
       "3195          outdoors\n",
       "2171          business\n",
       "4124          creative\n",
       "1318    people_contact\n",
       "4134        scientific\n",
       "Name: occupation, Length: 3518, dtype: object"
      ]
     },
     "execution_count": 30,
     "metadata": {},
     "output_type": "execute_result"
    }
   ],
   "source": [
    "y_train"
   ]
  },
  {
   "cell_type": "code",
   "execution_count": 41,
   "metadata": {
    "id": "Ns76ehTq_xHZ"
   },
   "outputs": [],
   "source": [
    "import pickle"
   ]
  },
  {
   "cell_type": "code",
   "execution_count": 33,
   "metadata": {
    "id": "KIZmG3QB_yzZ"
   },
   "outputs": [],
   "source": [
    "filehandler = open(b\"catBoost_v2_0ff4.pkl\",\"wb\")\n",
    "pickle.dump(model,filehandler)"
   ]
  },
  {
   "cell_type": "code",
   "execution_count": 43,
   "metadata": {
    "id": "MpKzuNXF_5bJ"
   },
   "outputs": [
    {
     "data": {
      "text/plain": [
       "array([0.00664445, 0.01759326, 0.01581891, 0.04233993, 0.0724115 ])"
      ]
     },
     "execution_count": 43,
     "metadata": {},
     "output_type": "execute_result"
    }
   ],
   "source": [
    "predictions = model.predict_proba(X_test[0:5])[:,1]\n",
    "predictions"
   ]
  },
  {
   "cell_type": "code",
   "execution_count": 46,
   "metadata": {},
   "outputs": [
    {
     "data": {
      "text/plain": [
       "array([['people_contact']], dtype=object)"
      ]
     },
     "execution_count": 46,
     "metadata": {},
     "output_type": "execute_result"
    }
   ],
   "source": [
    "import pickle \n",
    "# save the model to disk\n",
    "modelname = 'toymodel_02.pkl'\n",
    "pickle.dump(model, open(modelname, 'wb'))\n",
    " \n",
    "# load the model from disk\n",
    "loaded_model = pickle.load(open(modelname, 'rb'))\n",
    "predictions = loaded_model.predict(X_test[0:1])\n",
    "predictions"
   ]
  },
  {
   "cell_type": "code",
   "execution_count": 28,
   "metadata": {},
   "outputs": [
    {
     "data": {
      "text/html": [
       "<div>\n",
       "<style scoped>\n",
       "    .dataframe tbody tr th:only-of-type {\n",
       "        vertical-align: middle;\n",
       "    }\n",
       "\n",
       "    .dataframe tbody tr th {\n",
       "        vertical-align: top;\n",
       "    }\n",
       "\n",
       "    .dataframe thead th {\n",
       "        text-align: right;\n",
       "    }\n",
       "</style>\n",
       "<table border=\"1\" class=\"dataframe\">\n",
       "  <thead>\n",
       "    <tr style=\"text-align: right;\">\n",
       "      <th></th>\n",
       "      <th>nom_q_9103b</th>\n",
       "      <th>nom_q_9103c</th>\n",
       "      <th>nom_q_9103d</th>\n",
       "      <th>nom_q_9103e</th>\n",
       "      <th>nom_q_9103f</th>\n",
       "      <th>nom_q_9103g</th>\n",
       "      <th>nom_q_9103h</th>\n",
       "      <th>nom_q_9103i</th>\n",
       "      <th>nom_q_9103j</th>\n",
       "      <th>nom_q_9103k</th>\n",
       "      <th>nom_q_9103l</th>\n",
       "      <th>nom_q_9103m</th>\n",
       "      <th>nom_q_9103n</th>\n",
       "      <th>nom_q_9103o</th>\n",
       "      <th>nom_q_9103p</th>\n",
       "      <th>nom_q_9103q</th>\n",
       "      <th>nom_q_9103r</th>\n",
       "      <th>nom_q_9103s</th>\n",
       "    </tr>\n",
       "  </thead>\n",
       "  <tbody>\n",
       "    <tr>\n",
       "      <th>1085</th>\n",
       "      <td>Chemistry</td>\n",
       "      <td>Botany</td>\n",
       "      <td>Owning_store</td>\n",
       "      <td>Company_management</td>\n",
       "      <td>Doktor</td>\n",
       "      <td>Music</td>\n",
       "      <td>Physics</td>\n",
       "      <td>Education</td>\n",
       "      <td>Law</td>\n",
       "      <td>Child_care</td>\n",
       "      <td>Playing_in_group</td>\n",
       "      <td>Travel_agent</td>\n",
       "      <td>Work_office</td>\n",
       "      <td>nurse_mercy</td>\n",
       "      <td>Economist</td>\n",
       "      <td>Accounting</td>\n",
       "      <td>Economist</td>\n",
       "      <td>helping_hospital</td>\n",
       "    </tr>\n",
       "  </tbody>\n",
       "</table>\n",
       "</div>"
      ],
      "text/plain": [
       "     nom_q_9103b nom_q_9103c   nom_q_9103d         nom_q_9103e nom_q_9103f  \\\n",
       "1085   Chemistry      Botany  Owning_store  Company_management      Doktor   \n",
       "\n",
       "     nom_q_9103g nom_q_9103h nom_q_9103i nom_q_9103j nom_q_9103k  \\\n",
       "1085       Music     Physics   Education         Law  Child_care   \n",
       "\n",
       "           nom_q_9103l   nom_q_9103m  nom_q_9103n  nom_q_9103o nom_q_9103p  \\\n",
       "1085  Playing_in_group  Travel_agent  Work_office  nurse_mercy   Economist   \n",
       "\n",
       "     nom_q_9103q nom_q_9103r       nom_q_9103s  \n",
       "1085  Accounting   Economist  helping_hospital  "
      ]
     },
     "execution_count": 28,
     "metadata": {},
     "output_type": "execute_result"
    }
   ],
   "source": [
    "X_test[0:1]"
   ]
  },
  {
   "cell_type": "code",
   "execution_count": 32,
   "metadata": {},
   "outputs": [
    {
     "data": {
      "text/plain": [
       "array([['people_contact']], dtype=object)"
      ]
     },
     "execution_count": 32,
     "metadata": {},
     "output_type": "execute_result"
    }
   ],
   "source": [
    "y_pred[0:1]"
   ]
  },
  {
   "cell_type": "code",
   "execution_count": 48,
   "metadata": {},
   "outputs": [
    {
     "data": {
      "text/plain": [
       "array([['people_contact'],\n",
       "       ['creative'],\n",
       "       ['office'],\n",
       "       ...,\n",
       "       ['business'],\n",
       "       ['office'],\n",
       "       ['outdoors']], dtype=object)"
      ]
     },
     "execution_count": 48,
     "metadata": {},
     "output_type": "execute_result"
    }
   ],
   "source": [
    "loaded_model.predict((X))\n"
   ]
  },
  {
   "cell_type": "code",
   "execution_count": null,
   "metadata": {},
   "outputs": [],
   "source": []
  }
 ],
 "metadata": {
  "accelerator": "GPU",
  "colab": {
   "collapsed_sections": [],
   "provenance": []
  },
  "kernelspec": {
   "display_name": "Python 3",
   "language": "python",
   "name": "python3"
  },
  "language_info": {
   "codemirror_mode": {
    "name": "ipython",
    "version": 3
   },
   "file_extension": ".py",
   "mimetype": "text/x-python",
   "name": "python",
   "nbconvert_exporter": "python",
   "pygments_lexer": "ipython3",
   "version": "3.8.8"
  },
  "widgets": {
   "application/vnd.jupyter.widget-state+json": {
    "7b59ffc250844a13b565830b34a3098d": {
     "model_module": "catboost-widget",
     "model_module_version": "^1.0.0",
     "model_name": "CatboostWidgetModel",
     "state": {
      "_dom_classes": [],
      "_model_module": "catboost-widget",
      "_model_module_version": "^1.0.0",
      "_model_name": "CatboostWidgetModel",
      "_view_count": null,
      "_view_module": "catboost-widget",
      "_view_module_version": "^1.0.0",
      "_view_name": "CatboostWidgetView",
      "data": {
       "catboost_info": {
        "content": {
         "data": {
          "iterations": [
           {
            "iteration": 0,
            "learn": [
             0.4344596876,
             1.92274636
            ],
            "passed_time": 0.1415510419,
            "remaining_time": 141.4094908,
            "test": [
             0.3441212114,
             1.926619784
            ]
           },
           {
            "iteration": 1,
            "learn": [
             0.4560136404,
             1.899602034
            ],
            "passed_time": 0.1941399271,
            "remaining_time": 96.87582362,
            "test": [
             0.3518890391,
             1.907035948
            ]
           },
           {
            "iteration": 2,
            "learn": [
             0.4590810055,
             1.878177285
            ],
            "passed_time": 0.2378373097,
            "remaining_time": 79.04126591,
            "test": [
             0.3404829285,
             1.889295175
            ]
           },
           {
            "iteration": 3,
            "learn": [
             0.4450240764,
             1.858729022
            ],
            "passed_time": 0.2807167108,
            "remaining_time": 69.89846099,
            "test": [
             0.3352023449,
             1.872956679
            ]
           },
           {
            "iteration": 4,
            "learn": [
             0.4452295378,
             1.840064113
            ],
            "passed_time": 0.3209252607,
            "remaining_time": 63.86412688,
            "test": [
             0.3417205316,
             1.857206391
            ]
           },
           {
            "iteration": 5,
            "learn": [
             0.4424026825,
             1.823342992
            ],
            "passed_time": 0.3619829845,
            "remaining_time": 59.96851442,
            "test": [
             0.3375176966,
             1.843719325
            ]
           },
           {
            "iteration": 6,
            "learn": [
             0.4460960801,
             1.806613454
            ],
            "passed_time": 0.4023888856,
            "remaining_time": 57.08173763,
            "test": [
             0.3309793389,
             1.830871193
            ]
           },
           {
            "iteration": 7,
            "learn": [
             0.4506284016,
             1.790336063
            ],
            "passed_time": 0.4455986952,
            "remaining_time": 55.25423821,
            "test": [
             0.335843645,
             1.817578486
            ]
           },
           {
            "iteration": 8,
            "learn": [
             0.4563796002,
             1.774546556
            ],
            "passed_time": 0.4893590477,
            "remaining_time": 53.88386847,
            "test": [
             0.3336504604,
             1.805787339
            ]
           },
           {
            "iteration": 9,
            "learn": [
             0.4561656544,
             1.759825475
            ],
            "passed_time": 0.5296620853,
            "remaining_time": 52.43654645,
            "test": [
             0.332817954,
             1.793585253
            ]
           },
           {
            "iteration": 10,
            "learn": [
             0.4540459125,
             1.746437554
            ],
            "passed_time": 0.5694627445,
            "remaining_time": 51.19987767,
            "test": [
             0.3333012319,
             1.783652932
            ]
           },
           {
            "iteration": 11,
            "learn": [
             0.4559015936,
             1.733083441
            ],
            "passed_time": 0.6093967465,
            "remaining_time": 50.17366546,
            "test": [
             0.3295559793,
             1.772554831
            ]
           },
           {
            "iteration": 12,
            "learn": [
             0.4609660372,
             1.719991658
            ],
            "passed_time": 0.6498763737,
            "remaining_time": 49.34061391,
            "test": [
             0.3306263437,
             1.762274151
            ]
           },
           {
            "iteration": 13,
            "learn": [
             0.4617124943,
             1.707794836
            ],
            "passed_time": 0.6892879815,
            "remaining_time": 48.54556784,
            "test": [
             0.3327387531,
             1.752972552
            ]
           },
           {
            "iteration": 14,
            "learn": [
             0.4560859439,
             1.6958617
            ],
            "passed_time": 0.7286919386,
            "remaining_time": 47.85077064,
            "test": [
             0.3353246683,
             1.743080687
            ]
           },
           {
            "iteration": 15,
            "learn": [
             0.459663969,
             1.684432982
            ],
            "passed_time": 0.7692774313,
            "remaining_time": 47.31056203,
            "test": [
             0.3375682716,
             1.734462429
            ]
           },
           {
            "iteration": 16,
            "learn": [
             0.4573147524,
             1.673634694
            ],
            "passed_time": 0.8088321486,
            "remaining_time": 46.76952953,
            "test": [
             0.3391631224,
             1.725635276
            ]
           },
           {
            "iteration": 17,
            "learn": [
             0.4603293875,
             1.662954909
            ],
            "passed_time": 0.8495102476,
            "remaining_time": 46.34550351,
            "test": [
             0.3337825122,
             1.717597848
            ]
           },
           {
            "iteration": 18,
            "learn": [
             0.4615591327,
             1.652804894
            ],
            "passed_time": 0.8921729182,
            "remaining_time": 46.06429646,
            "test": [
             0.3286188908,
             1.71082817
            ]
           },
           {
            "iteration": 19,
            "learn": [
             0.4646943076,
             1.64278918
            ],
            "passed_time": 0.9375722336,
            "remaining_time": 45.94103945,
            "test": [
             0.3322926517,
             1.703542308
            ]
           },
           {
            "iteration": 20,
            "learn": [
             0.4620740749,
             1.633436886
            ],
            "passed_time": 0.9778976911,
            "remaining_time": 45.58865903,
            "test": [
             0.330447292,
             1.696083304
            ]
           },
           {
            "iteration": 21,
            "learn": [
             0.467031789,
             1.624230009
            ],
            "passed_time": 1.024919708,
            "remaining_time": 45.56233977,
            "test": [
             0.328465754,
             1.689874687
            ]
           },
           {
            "iteration": 22,
            "learn": [
             0.4697517022,
             1.615608361
            ],
            "passed_time": 1.066491935,
            "remaining_time": 45.30272262,
            "test": [
             0.3315475115,
             1.683621656
            ]
           },
           {
            "iteration": 23,
            "learn": [
             0.4708590686,
             1.607085505
            ],
            "passed_time": 1.105740896,
            "remaining_time": 44.96679644,
            "test": [
             0.3319756727,
             1.677256703
            ]
           },
           {
            "iteration": 24,
            "learn": [
             0.4725060458,
             1.598437008
            ],
            "passed_time": 1.148912963,
            "remaining_time": 44.80760554,
            "test": [
             0.329837289,
             1.671427138
            ]
           },
           {
            "iteration": 25,
            "learn": [
             0.4757649519,
             1.590257026
            ],
            "passed_time": 1.191369614,
            "remaining_time": 44.63053861,
            "test": [
             0.334799885,
             1.665642831
            ]
           },
           {
            "iteration": 26,
            "learn": [
             0.4758986652,
             1.58227459
            ],
            "passed_time": 1.238337295,
            "remaining_time": 44.62600698,
            "test": [
             0.3319647631,
             1.659954694
            ]
           },
           {
            "iteration": 27,
            "learn": [
             0.4770937227,
             1.574608464
            ],
            "passed_time": 1.278406606,
            "remaining_time": 44.3789722,
            "test": [
             0.3329925611,
             1.655549065
            ]
           },
           {
            "iteration": 28,
            "learn": [
             0.4784121771,
             1.566791746
            ],
            "passed_time": 1.318367884,
            "remaining_time": 44.14259364,
            "test": [
             0.3327377563,
             1.650408949
            ]
           },
           {
            "iteration": 29,
            "learn": [
             0.4777622203,
             1.559608252
            ],
            "passed_time": 1.357758046,
            "remaining_time": 43.9008435,
            "test": [
             0.3340347103,
             1.645492475
            ]
           },
           {
            "iteration": 30,
            "learn": [
             0.4776952179,
             1.552709575
            ],
            "passed_time": 1.39808246,
            "remaining_time": 43.70135173,
            "test": [
             0.3306451886,
             1.640186833
            ]
           },
           {
            "iteration": 31,
            "learn": [
             0.4772964736,
             1.54609251
            ],
            "passed_time": 1.437488722,
            "remaining_time": 43.48403384,
            "test": [
             0.3329096368,
             1.635179915
            ]
           },
           {
            "iteration": 32,
            "learn": [
             0.4787519156,
             1.539376056
            ],
            "passed_time": 1.47707045,
            "remaining_time": 43.28264016,
            "test": [
             0.3362048565,
             1.630763593
            ]
           },
           {
            "iteration": 33,
            "learn": [
             0.480107422,
             1.532920182
            ],
            "passed_time": 1.517154074,
            "remaining_time": 43.10502458,
            "test": [
             0.3315434786,
             1.626893942
            ]
           },
           {
            "iteration": 34,
            "learn": [
             0.4826043983,
             1.526562221
            ],
            "passed_time": 1.557483555,
            "remaining_time": 42.94204658,
            "test": [
             0.3339250181,
             1.623450159
            ]
           },
           {
            "iteration": 35,
            "learn": [
             0.4833747752,
             1.519983569
            ],
            "passed_time": 1.598445791,
            "remaining_time": 42.80282617,
            "test": [
             0.3351820694,
             1.619425166
            ]
           },
           {
            "iteration": 36,
            "learn": [
             0.4830462989,
             1.51383717
            ],
            "passed_time": 1.640931185,
            "remaining_time": 42.7085603,
            "test": [
             0.3334520028,
             1.615489781
            ]
           },
           {
            "iteration": 37,
            "learn": [
             0.4858523844,
             1.507818603
            ],
            "passed_time": 1.68668605,
            "remaining_time": 42.69978896,
            "test": [
             0.3349905428,
             1.611405759
            ]
           },
           {
            "iteration": 38,
            "learn": [
             0.4883750068,
             1.501571854
            ],
            "passed_time": 1.735235947,
            "remaining_time": 42.75799346,
            "test": [
             0.3376261346,
             1.607807852
            ]
           },
           {
            "iteration": 39,
            "learn": [
             0.4930923119,
             1.495851404
            ],
            "passed_time": 1.781168015,
            "remaining_time": 42.74803236,
            "test": [
             0.3366207858,
             1.604321456
            ]
           },
           {
            "iteration": 40,
            "learn": [
             0.4949920014,
             1.490325976
            ],
            "passed_time": 1.820834152,
            "remaining_time": 42.58975491,
            "test": [
             0.3348564175,
             1.60157231
            ]
           },
           {
            "iteration": 41,
            "learn": [
             0.4933801988,
             1.484883107
            ],
            "passed_time": 1.860871961,
            "remaining_time": 42.4456033,
            "test": [
             0.3376205759,
             1.597872767
            ]
           },
           {
            "iteration": 42,
            "learn": [
             0.4943977835,
             1.479371206
            ],
            "passed_time": 1.900752333,
            "remaining_time": 42.3027903,
            "test": [
             0.339805547,
             1.594761424
            ]
           },
           {
            "iteration": 43,
            "learn": [
             0.4936321234,
             1.474219011
            ],
            "passed_time": 1.940048972,
            "remaining_time": 42.15197312,
            "test": [
             0.3375029348,
             1.591550954
            ]
           },
           {
            "iteration": 44,
            "learn": [
             0.4944398215,
             1.469059235
            ],
            "passed_time": 1.979570156,
            "remaining_time": 42.01087776,
            "test": [
             0.3374685656,
             1.588857126
            ]
           },
           {
            "iteration": 45,
            "learn": [
             0.4939472345,
             1.464592943
            ],
            "passed_time": 2.026117194,
            "remaining_time": 42.01990876,
            "test": [
             0.3393007478,
             1.58563361
            ]
           },
           {
            "iteration": 46,
            "learn": [
             0.4961854878,
             1.459487307
            ],
            "passed_time": 2.06636933,
            "remaining_time": 41.89893557,
            "test": [
             0.337607667,
             1.583077697
            ]
           },
           {
            "iteration": 47,
            "learn": [
             0.4960381515,
             1.454547881
            ],
            "passed_time": 2.105509109,
            "remaining_time": 41.75926399,
            "test": [
             0.3353038271,
             1.580328231
            ]
           },
           {
            "iteration": 48,
            "learn": [
             0.4972704683,
             1.449609842
            ],
            "passed_time": 2.144568115,
            "remaining_time": 41.62212812,
            "test": [
             0.3360511508,
             1.577578585
            ]
           },
           {
            "iteration": 49,
            "learn": [
             0.4960904967,
             1.444871394
            ],
            "passed_time": 2.183031259,
            "remaining_time": 41.47759392,
            "test": [
             0.3355064635,
             1.575182017
            ]
           },
           {
            "iteration": 50,
            "learn": [
             0.4972422133,
             1.440366387
            ],
            "passed_time": 2.233887639,
            "remaining_time": 41.56783078,
            "test": [
             0.3351632576,
             1.573527341
            ]
           },
           {
            "iteration": 51,
            "learn": [
             0.5006739029,
             1.435825275
            ],
            "passed_time": 2.274197162,
            "remaining_time": 41.46036364,
            "test": [
             0.3355361763,
             1.570898301
            ]
           },
           {
            "iteration": 52,
            "learn": [
             0.5016786794,
             1.431380784
            ],
            "passed_time": 2.314689283,
            "remaining_time": 41.35869341,
            "test": [
             0.338727136,
             1.568618427
            ]
           },
           {
            "iteration": 53,
            "learn": [
             0.5014526523,
             1.427106913
            ],
            "passed_time": 2.353821229,
            "remaining_time": 41.23546078,
            "test": [
             0.3370990099,
             1.566238058
            ]
           },
           {
            "iteration": 54,
            "learn": [
             0.5023567125,
             1.422768606
            ],
            "passed_time": 2.393422396,
            "remaining_time": 41.12334845,
            "test": [
             0.3379070599,
             1.563739056
            ]
           },
           {
            "iteration": 55,
            "learn": [
             0.5013348443,
             1.418561358
            ],
            "passed_time": 2.437716302,
            "remaining_time": 41.09293196,
            "test": [
             0.3370082339,
             1.561240721
            ]
           },
           {
            "iteration": 56,
            "learn": [
             0.5026071504,
             1.414437963
            ],
            "passed_time": 2.477571069,
            "remaining_time": 40.98858804,
            "test": [
             0.3428564257,
             1.559206418
            ]
           },
           {
            "iteration": 57,
            "learn": [
             0.5046904053,
             1.410491308
            ],
            "passed_time": 2.5170347,
            "remaining_time": 40.88011531,
            "test": [
             0.3419944491,
             1.557384634
            ]
           },
           {
            "iteration": 58,
            "learn": [
             0.5061169559,
             1.406487257
            ],
            "passed_time": 2.557019539,
            "remaining_time": 40.78229468,
            "test": [
             0.3378215236,
             1.55543868
            ]
           },
           {
            "iteration": 59,
            "learn": [
             0.5056162086,
             1.402520594
            ],
            "passed_time": 2.597644011,
            "remaining_time": 40.69642284,
            "test": [
             0.3393642569,
             1.553355654
            ]
           },
           {
            "iteration": 60,
            "learn": [
             0.5073323434,
             1.398513899
            ],
            "passed_time": 2.638502579,
            "remaining_time": 40.61563806,
            "test": [
             0.3386194756,
             1.551858673
            ]
           },
           {
            "iteration": 61,
            "learn": [
             0.5068877133,
             1.394347009
            ],
            "passed_time": 2.678022089,
            "remaining_time": 40.51588258,
            "test": [
             0.3341046897,
             1.550153524
            ]
           },
           {
            "iteration": 62,
            "learn": [
             0.5113402907,
             1.390445501
            ],
            "passed_time": 2.716959598,
            "remaining_time": 40.40938323,
            "test": [
             0.3372775327,
             1.548196372
            ]
           },
           {
            "iteration": 63,
            "learn": [
             0.5135655956,
             1.386958172
            ],
            "passed_time": 2.758775124,
            "remaining_time": 40.34708619,
            "test": [
             0.3364695878,
             1.54658878
            ]
           },
           {
            "iteration": 64,
            "learn": [
             0.5149769777,
             1.383068434
            ],
            "passed_time": 2.798599165,
            "remaining_time": 40.2567726,
            "test": [
             0.3350109333,
             1.544930402
            ]
           },
           {
            "iteration": 65,
            "learn": [
             0.5147104201,
             1.380120469
            ],
            "passed_time": 2.836712204,
            "remaining_time": 40.14377573,
            "test": [
             0.334962772,
             1.543168266
            ]
           },
           {
            "iteration": 66,
            "learn": [
             0.514125126,
             1.376655424
            ],
            "passed_time": 2.876343449,
            "remaining_time": 40.05415579,
            "test": [
             0.3340033073,
             1.541624384
            ]
           },
           {
            "iteration": 67,
            "learn": [
             0.5144640915,
             1.373112837
            ],
            "passed_time": 2.915659579,
            "remaining_time": 39.96168717,
            "test": [
             0.3366302512,
             1.540370082
            ]
           },
           {
            "iteration": 68,
            "learn": [
             0.5136948169,
             1.369772169
            ],
            "passed_time": 2.95913917,
            "remaining_time": 39.92693575,
            "test": [
             0.3354454629,
             1.539108067
            ]
           },
           {
            "iteration": 69,
            "learn": [
             0.5137115968,
             1.366239403
            ],
            "passed_time": 3.002560065,
            "remaining_time": 39.89115515,
            "test": [
             0.3367669346,
             1.537594272
            ]
           },
           {
            "iteration": 70,
            "learn": [
             0.5158010497,
             1.362812049
            ],
            "passed_time": 3.051463165,
            "remaining_time": 39.92689128,
            "test": [
             0.3359486365,
             1.535980584
            ]
           },
           {
            "iteration": 71,
            "learn": [
             0.5152422563,
             1.359569216
            ],
            "passed_time": 3.090860885,
            "remaining_time": 39.83776252,
            "test": [
             0.3393512605,
             1.534270965
            ]
           },
           {
            "iteration": 72,
            "learn": [
             0.5159317726,
             1.356508625
            ],
            "passed_time": 3.130219624,
            "remaining_time": 39.74950126,
            "test": [
             0.3391577262,
             1.532950356
            ]
           },
           {
            "iteration": 73,
            "learn": [
             0.5164888209,
             1.353264415
            ],
            "passed_time": 3.168320917,
            "remaining_time": 39.6468266,
            "test": [
             0.3391175118,
             1.531672692
            ]
           },
           {
            "iteration": 74,
            "learn": [
             0.5189305199,
             1.350288959
            ],
            "passed_time": 3.206672233,
            "remaining_time": 39.54895754,
            "test": [
             0.3371893655,
             1.530459592
            ]
           },
           {
            "iteration": 75,
            "learn": [
             0.5211209444,
             1.346776195
            ],
            "passed_time": 3.257271529,
            "remaining_time": 39.60156438,
            "test": [
             0.3399473075,
             1.529320801
            ]
           },
           {
            "iteration": 76,
            "learn": [
             0.5216069634,
             1.343480644
            ],
            "passed_time": 3.297520506,
            "remaining_time": 39.52742113,
            "test": [
             0.3398868929,
             1.527794203
            ]
           },
           {
            "iteration": 77,
            "learn": [
             0.5224089435,
             1.340068551
            ],
            "passed_time": 3.338401626,
            "remaining_time": 39.46161922,
            "test": [
             0.3406653082,
             1.526759347
            ]
           },
           {
            "iteration": 78,
            "learn": [
             0.5217568744,
             1.337651105
            ],
            "passed_time": 3.378191746,
            "remaining_time": 39.38372909,
            "test": [
             0.3382056097,
             1.525519855
            ]
           },
           {
            "iteration": 79,
            "learn": [
             0.5227198313,
             1.335221695
            ],
            "passed_time": 3.414786305,
            "remaining_time": 39.2700425,
            "test": [
             0.3382656755,
             1.524067296
            ]
           },
           {
            "iteration": 80,
            "learn": [
             0.5246270134,
             1.332056512
            ],
            "passed_time": 3.454478259,
            "remaining_time": 39.19340148,
            "test": [
             0.3395656953,
             1.522889335
            ]
           },
           {
            "iteration": 81,
            "learn": [
             0.5249073939,
             1.329601608
            ],
            "passed_time": 3.498387949,
            "remaining_time": 39.16487972,
            "test": [
             0.3380726577,
             1.521667765
            ]
           },
           {
            "iteration": 82,
            "learn": [
             0.5262210215,
             1.326840944
            ],
            "passed_time": 3.539335823,
            "remaining_time": 39.10326445,
            "test": [
             0.338966995,
             1.520570876
            ]
           },
           {
            "iteration": 83,
            "learn": [
             0.5268690025,
             1.32382354
            ],
            "passed_time": 3.578960572,
            "remaining_time": 39.02771291,
            "test": [
             0.3364716038,
             1.519469402
            ]
           },
           {
            "iteration": 84,
            "learn": [
             0.5289454477,
             1.320883477
            ],
            "passed_time": 3.619836024,
            "remaining_time": 38.96647014,
            "test": [
             0.3355055181,
             1.518375642
            ]
           },
           {
            "iteration": 85,
            "learn": [
             0.5282748556,
             1.318515719
            ],
            "passed_time": 3.659249707,
            "remaining_time": 38.89016549,
            "test": [
             0.3399481806,
             1.517488611
            ]
           },
           {
            "iteration": 86,
            "learn": [
             0.5299045966,
             1.315668157
            ],
            "passed_time": 3.699626379,
            "remaining_time": 38.82481476,
            "test": [
             0.3387867346,
             1.516195232
            ]
           },
           {
            "iteration": 87,
            "learn": [
             0.5334847021,
             1.312856321
            ],
            "passed_time": 3.741283626,
            "remaining_time": 38.77330304,
            "test": [
             0.3407226548,
             1.514993904
            ]
           },
           {
            "iteration": 88,
            "learn": [
             0.5355115224,
             1.309422423
            ],
            "passed_time": 3.783433546,
            "remaining_time": 38.72705574,
            "test": [
             0.3381533168,
             1.513353413
            ]
           },
           {
            "iteration": 89,
            "learn": [
             0.5398141727,
             1.306710065
            ],
            "passed_time": 3.823757266,
            "remaining_time": 38.66243458,
            "test": [
             0.3416091496,
             1.512460922
            ]
           },
           {
            "iteration": 90,
            "learn": [
             0.5395850687,
             1.304011123
            ],
            "passed_time": 3.865183583,
            "remaining_time": 38.60936128,
            "test": [
             0.3424389657,
             1.511244452
            ]
           },
           {
            "iteration": 91,
            "learn": [
             0.5412329421,
             1.301557779
            ],
            "passed_time": 3.904104437,
            "remaining_time": 38.53181335,
            "test": [
             0.342820793,
             1.510438101
            ]
           },
           {
            "iteration": 92,
            "learn": [
             0.5425868288,
             1.299322091
            ],
            "passed_time": 3.94427093,
            "remaining_time": 38.46724444,
            "test": [
             0.3410221423,
             1.509387027
            ]
           },
           {
            "iteration": 93,
            "learn": [
             0.5421109348,
             1.29689995
            ],
            "passed_time": 3.981539302,
            "remaining_time": 38.37526178,
            "test": [
             0.3411858597,
             1.50845194
            ]
           },
           {
            "iteration": 94,
            "learn": [
             0.542981542,
             1.294442937
            ],
            "passed_time": 4.035701322,
            "remaining_time": 38.44536523,
            "test": [
             0.34187707,
             1.507904109
            ]
           },
           {
            "iteration": 95,
            "learn": [
             0.5436642117,
             1.292338347
            ],
            "passed_time": 4.079771686,
            "remaining_time": 38.41785005,
            "test": [
             0.3445043291,
             1.507240962
            ]
           },
           {
            "iteration": 96,
            "learn": [
             0.5448429943,
             1.289915507
            ],
            "passed_time": 4.132263137,
            "remaining_time": 38.46838776,
            "test": [
             0.3446443026,
             1.5065042
            ]
           },
           {
            "iteration": 97,
            "learn": [
             0.5458408867,
             1.287207879
            ],
            "passed_time": 4.178374376,
            "remaining_time": 38.45809885,
            "test": [
             0.3429566371,
             1.505740803
            ]
           },
           {
            "iteration": 98,
            "learn": [
             0.5462247221,
             1.285728594
            ],
            "passed_time": 4.223527934,
            "remaining_time": 38.43837039,
            "test": [
             0.3446194437,
             1.504939387
            ]
           },
           {
            "iteration": 99,
            "learn": [
             0.5473106872,
             1.283126349
            ],
            "passed_time": 4.273486716,
            "remaining_time": 38.46138044,
            "test": [
             0.3468619678,
             1.503972582
            ]
           },
           {
            "iteration": 100,
            "learn": [
             0.5490499117,
             1.280873221
            ],
            "passed_time": 4.312712771,
            "remaining_time": 38.38741367,
            "test": [
             0.3460545069,
             1.502981173
            ]
           },
           {
            "iteration": 101,
            "learn": [
             0.5496407683,
             1.278681579
            ],
            "passed_time": 4.351784284,
            "remaining_time": 38.31276752,
            "test": [
             0.34774196,
             1.502572115
            ]
           }
          ],
          "meta": {
           "iteration_count": 1000,
           "launch_mode": "Train",
           "learn_metrics": [
            {
             "best_value": "Max",
             "name": "TotalF1"
            },
            {
             "best_value": "Min",
             "name": "MultiClass"
            }
           ],
           "learn_sets": [
            "learn"
           ],
           "name": "experiment",
           "parameters": "",
           "test_metrics": [
            {
             "best_value": "Max",
             "name": "TotalF1"
            },
            {
             "best_value": "Min",
             "name": "MultiClass"
            }
           ],
           "test_sets": [
            "test"
           ]
          }
         },
         "passed_iterations": 101,
         "total_iterations": 1000
        },
        "name": "catboost_info",
        "path": "catboost_info"
       }
      },
      "layout": "IPY_MODEL_f20dafdabfe1408e8b47e4c675944367"
     }
    }
   }
  }
 },
 "nbformat": 4,
 "nbformat_minor": 1
}
